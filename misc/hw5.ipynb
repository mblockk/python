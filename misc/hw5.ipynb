{
 "cells": [
  {
   "cell_type": "markdown",
   "metadata": {},
   "source": [
    "# Introduction to Python \n",
    "# Homework #5\n",
    "- Due Sunday Oct 14 at 8pm\n",
    "- This homework will be graded\n",
    "- You MUST submit on CourseWorks2 before it closes\n",
    "    - Verify your submission succeeded\n",
    "    - Email submissions are not accepted \n",
    "    "
   ]
  },
  {
   "cell_type": "markdown",
   "metadata": {},
   "source": [
    "# Academic Honesty\n",
    "* The computer science department has strict polices. Check\n",
    "the department [web page](http://www.cs.columbia.edu/education/honesty) for details. \n",
    "- Do not look at anybody else's source code. Do not show anybody\n",
    "your source, or leave your source where somebody could see it.\n",
    "You MUST write your own code.\n",
    "- For this class, feel free to discuss issues with other people, but suggest waiting an hour or two after a discussion, before writing your code.\n",
    "-  Cases of non original source will be refered to the Judical Committee.\n",
    "\n"
   ]
  },
  {
   "cell_type": "markdown",
   "metadata": {},
   "source": [
    "# Ramanujan (super math genius) created a super magic square. \n",
    "- The top row is his birthdate (December 22, 1887). \n",
    "- It is a regular magic square - the rows, columns, and diagonals add up to 139,\n",
    "- But it has four additional properties!\n",
    "    - A - the four corners (22, 87, 19, 11)\n",
    "    - B - the four middle elements (17, 9, 24, 89), \n",
    "    - C - the first and last rows two middle numbers (12, 18, 86, 23), \n",
    "    - D - the first and last columns two middle numbers (88, 10, 25, 16)\n",
    "    - each also sums to 139!\n",
    "- fascinating [book](https://clio.columbia.edu/catalog/966852) and film about his life"
   ]
  },
  {
   "cell_type": "code",
   "execution_count": 1,
   "metadata": {},
   "outputs": [
    {
     "data": {
      "text/plain": [
       "array([[22, 12, 18, 87],\n",
       "       [88, 17,  9, 25],\n",
       "       [10, 24, 89, 16],\n",
       "       [19, 86, 23, 11]])"
      ]
     },
     "execution_count": 1,
     "metadata": {},
     "output_type": "execute_result"
    }
   ],
   "source": [
    "import numpy as np\n",
    "\n",
    "\n",
    "ram = np.array([22,12,18,87,88,17,9,25,10,24,89,16,19,86,23,11])\n",
    "ram = ram.reshape((4,4))\n",
    "ram\n"
   ]
  },
  {
   "cell_type": "markdown",
   "metadata": {},
   "source": [
    "# Problem 1\n",
    "- write four one line expressions to verify the additional properties. \n",
    "- the first should verify A, 2nd B, 3rd C, 4th D\n",
    "- you can use the 'sum' method, but you cannot use '+' or explicit 'for' loops"
   ]
  },
  {
   "cell_type": "code",
   "execution_count": 2,
   "metadata": {},
   "outputs": [
    {
     "data": {
      "text/plain": [
       "139"
      ]
     },
     "execution_count": 2,
     "metadata": {},
     "output_type": "execute_result"
    }
   ],
   "source": [
    "# A : four corner elements\n",
    "\n",
    "ram[[0, 0, -1, -1], [0, -1, 0, -1]].sum()\n",
    "\n",
    "\n"
   ]
  },
  {
   "cell_type": "code",
   "execution_count": 3,
   "metadata": {},
   "outputs": [
    {
     "data": {
      "text/plain": [
       "139"
      ]
     },
     "execution_count": 3,
     "metadata": {},
     "output_type": "execute_result"
    }
   ],
   "source": [
    "# B: four middle elements\n",
    "\n",
    "ram[1:3, 1:3].sum()\n",
    "\n"
   ]
  },
  {
   "cell_type": "code",
   "execution_count": 4,
   "metadata": {},
   "outputs": [
    {
     "data": {
      "text/plain": [
       "139"
      ]
     },
     "execution_count": 4,
     "metadata": {},
     "output_type": "execute_result"
    }
   ],
   "source": [
    "# C : first and last rows middle elements\n",
    "\n",
    "ram[[0, 0, -1, -1], [1, 2, 1, 2]].sum()\n"
   ]
  },
  {
   "cell_type": "code",
   "execution_count": 5,
   "metadata": {},
   "outputs": [
    {
     "data": {
      "text/plain": [
       "139"
      ]
     },
     "execution_count": 5,
     "metadata": {},
     "output_type": "execute_result"
    }
   ],
   "source": [
    "# D: first and last columns middle elements\n",
    "\n",
    "ram[[1, 2, 1, 2], [0, 0, -1, -1]].sum()\n"
   ]
  },
  {
   "cell_type": "markdown",
   "metadata": {},
   "source": [
    "# Problem 2\n",
    "## Plot Bessel Functions\n",
    "- 'j0' computes the 'bessel special function'\n",
    "    - looks like a decaying sine wave\n",
    "    - like sin, crosses the x axis(y=0) an infinite number of times\n",
    "    - [doc](https://docs.scipy.org/doc/scipy/reference/generated/scipy.special.j0.html#scipy.special.j0)\n",
    "- use 'jn_zeros' to find the zeros(where function plot crosses x axis) of 'j0' \n",
    "    - [doc](https://docs.scipy.org/doc/scipy/reference/generated/scipy.special.jn_zeros.html#scipy.special.jn_zeros)\n",
    "    - first arg must be 0"
   ]
  },
  {
   "cell_type": "code",
   "execution_count": 6,
   "metadata": {},
   "outputs": [
    {
     "data": {
      "text/plain": [
       "[0.7651976865579665, 0.22389077914123562]"
      ]
     },
     "execution_count": 6,
     "metadata": {},
     "output_type": "execute_result"
    }
   ],
   "source": [
    "import numpy as np\n",
    "import scipy.special\n",
    "import matplotlib.pyplot as plt\n",
    "import math\n",
    "\n",
    "# make plots render in the notebook\n",
    "%matplotlib inline\n",
    "\n",
    "# values of j0\n",
    "[scipy.special.j0(1), scipy.special.j0(2)]"
   ]
  },
  {
   "cell_type": "code",
   "execution_count": 7,
   "metadata": {},
   "outputs": [
    {
     "data": {
      "text/plain": [
       "array([1.        , 0.76519769])"
      ]
     },
     "execution_count": 7,
     "metadata": {},
     "output_type": "execute_result"
    }
   ],
   "source": [
    "# note j0() takes lists...\n",
    "\n",
    "scipy.special.j0([0,1])"
   ]
  },
  {
   "cell_type": "code",
   "execution_count": 8,
   "metadata": {},
   "outputs": [
    {
     "data": {
      "text/plain": [
       "array([1.        , 0.76519769])"
      ]
     },
     "execution_count": 8,
     "metadata": {},
     "output_type": "execute_result"
    }
   ],
   "source": [
    "# ...and arrays as args \n",
    "# returns an array of the evaluations\n",
    "\n",
    "scipy.special.j0(np.array([0,1]))"
   ]
  },
  {
   "cell_type": "code",
   "execution_count": 9,
   "metadata": {},
   "outputs": [
    {
     "data": {
      "text/plain": [
       "array([2.40482556, 5.52007811, 8.65372791])"
      ]
     },
     "execution_count": 9,
     "metadata": {},
     "output_type": "execute_result"
    }
   ],
   "source": [
    "# first arg to jn_zeros must be 0\n",
    "\n",
    "# first three zeros of j0\n",
    "\n",
    "scipy.special.jn_zeros(0, 3)\n"
   ]
  },
  {
   "cell_type": "code",
   "execution_count": 10,
   "metadata": {},
   "outputs": [
    {
     "data": {
      "text/plain": [
       "array([-9.58688255e-17, -1.64951298e-17, -8.75148280e-17])"
      ]
     },
     "execution_count": 10,
     "metadata": {},
     "output_type": "execute_result"
    }
   ],
   "source": [
    "# check the zeros\n",
    "\n",
    "scipy.special.j0(scipy.special.jn_zeros(0, 3))"
   ]
  },
  {
   "cell_type": "code",
   "execution_count": 11,
   "metadata": {},
   "outputs": [
    {
     "data": {
      "image/png": "[encoded data removed]",
      "text/plain": [
       "<Figure size 432x288 with 1 Axes>"
      ]
     },
     "metadata": {},
     "output_type": "display_data"
    }
   ],
   "source": [
    "# this will plot a numpy vector function\n",
    "\n",
    "def plotf(func, low, high):\n",
    "    # arg is a vector function to plot\n",
    "    # make a set of x vals\n",
    "    x = np.arange(low, high, .1)\n",
    "    # eval the func on the x vals\n",
    "    y = func(x)\n",
    "    plt.plot(x, y, 'r', linewidth=2)\n",
    "    plt.xlabel('x')\n",
    "    plt.ylabel('y')\n",
    "    plt.grid(True)\n",
    "\n",
    "    plt.title('Plot of sin')\n",
    "    \n",
    "plotf(np.sin, 0, 2*math.pi)"
   ]
  },
  {
   "cell_type": "markdown",
   "metadata": {},
   "source": [
    "# define function bessel(zeros)\n",
    "- arrange to plot enough of the bessel function to show\n",
    "the requested number of zeros.\n",
    "- start the plot at x = 0 on the left\n",
    "- go as far right as needed to display the requested number of zeros\n",
    "- for a smooth plot, evaluate j0 at .1 increments(x = .0, .1, .2,...)\n",
    "    - can use np.arange to generate the x values\n",
    "    - [doc](https://docs.scipy.org/doc/numpy/reference/generated/numpy.arange.html)\n",
    "- use matplotlib\n",
    "    - your plot title, x & y labels, should be the same as mine\n",
    "- return the list of j0 zeros"
   ]
  },
  {
   "cell_type": "code",
   "execution_count": 12,
   "metadata": {},
   "outputs": [
    {
     "data": {
      "image/png": "[encoded data removed]",
      "text/plain": [
       "<Figure size 432x288 with 1 Axes>"
      ]
     },
     "metadata": {},
     "output_type": "display_data"
    }
   ],
   "source": [
    "# this will plot a numpy vector function\n",
    "\n",
    "def plotf(func, low, high):\n",
    "    # arg is a vector function to plot\n",
    "    # make a set of x vals\n",
    "    x = np.arange(low, high, .1)\n",
    "    # eval the func on the x vals\n",
    "    y = func(x)\n",
    "    plt.plot(x, y, 'r', linewidth=2)\n",
    "    plt.xlabel('x')\n",
    "    plt.ylabel('y')\n",
    "    plt.grid(True)\n",
    "\n",
    "    plt.title('Plot of sin')\n",
    "    \n",
    "plotf(np.sin, 0, 2*math.pi)"
   ]
  },
  {
   "cell_type": "code",
   "execution_count": null,
   "metadata": {},
   "outputs": [],
   "source": []
  },
  {
   "cell_type": "code",
   "execution_count": 13,
   "metadata": {},
   "outputs": [
    {
     "data": {
      "text/plain": [
       "array([ 2.40482556,  5.52007811,  8.65372791, 11.79153444, 14.93091771])"
      ]
     },
     "execution_count": 13,
     "metadata": {},
     "output_type": "execute_result"
    },
    {
     "data": {
      "image/png": "[encoded data removed]",
      "text/plain": [
       "<Figure size 432x288 with 1 Axes>"
      ]
     },
     "metadata": {},
     "output_type": "display_data"
    }
   ],
   "source": [
    "def bessel(zeros):\n",
    "    \n",
    "    thezeros = scipy.special.jn_zeros(0, zeros)\n",
    "    last = thezeros[-1]\n",
    "\n",
    "    x = np.arange(0, last, .1)  \n",
    "    y = scipy.special.j0(x)\n",
    "        \n",
    "    plt.plot(x, y, 'r', linewidth=2)\n",
    "    plt.xlabel('x')\n",
    "    plt.ylabel('j 0')\n",
    "    plt.grid(True)\n",
    "\n",
    "    plt.title('{} zeros of j0'.format(zeros))\n",
    "    \n",
    "    return thezeros\n",
    "\n",
    "bessel(5)"
   ]
  },
  {
   "cell_type": "code",
   "execution_count": 14,
   "metadata": {},
   "outputs": [
    {
     "data": {
      "text/plain": [
       "array([2.40482556, 5.52007811])"
      ]
     },
     "execution_count": 14,
     "metadata": {},
     "output_type": "execute_result"
    },
    {
     "data": {
      "image/png": "[encoded data removed]",
      "text/plain": [
       "<Figure size 432x288 with 1 Axes>"
      ]
     },
     "metadata": {},
     "output_type": "display_data"
    }
   ],
   "source": [
    "bessel(2)"
   ]
  },
  {
   "cell_type": "code",
   "execution_count": 15,
   "metadata": {},
   "outputs": [
    {
     "data": {
      "text/plain": [
       "array([ 2.40482556,  5.52007811,  8.65372791, 11.79153444, 14.93091771])"
      ]
     },
     "execution_count": 15,
     "metadata": {},
     "output_type": "execute_result"
    },
    {
     "data": {
      "image/png": "[encoded data removed]",
      "text/plain": [
       "<Figure size 432x288 with 1 Axes>"
      ]
     },
     "metadata": {},
     "output_type": "display_data"
    }
   ],
   "source": [
    "bessel(5)"
   ]
  },
  {
   "cell_type": "code",
   "execution_count": 16,
   "metadata": {},
   "outputs": [
    {
     "data": {
      "text/plain": [
       "array([ 2.40482556,  5.52007811,  8.65372791, 11.79153444, 14.93091771,\n",
       "       18.07106397, 21.21163663, 24.35247153, 27.49347913, 30.63460647])"
      ]
     },
     "execution_count": 16,
     "metadata": {},
     "output_type": "execute_result"
    },
    {
     "data": {
      "image/png": "[encoded data removed]",
      "text/plain": [
       "<Figure size 432x288 with 1 Axes>"
      ]
     },
     "metadata": {},
     "output_type": "display_data"
    }
   ],
   "source": [
    "bessel(10)"
   ]
  },
  {
   "cell_type": "markdown",
   "metadata": {},
   "source": [
    "# Problems  3, 4, & 5\n",
    "# define savings() \n",
    "- make a pandas DataFrame that shows how money will grow with compound interest\n",
    "- pd.date_range takes these [frequency specs](http://pandas.pydata.org/pandas-docs/stable/timeseries.html#offset-aliases)\n",
    "- use floats for money\n",
    "- I will show you how to build the DataFrame in several steps below, using the default args\n",
    "- your ultimate goal is to define the savings function shown below that does all the steps, using\n",
    "the supplied or default args"
   ]
  },
  {
   "cell_type": "code",
   "execution_count": 17,
   "metadata": {},
   "outputs": [],
   "source": [
    "from datetime import datetime, timedelta\n",
    "import pandas as pd"
   ]
  },
  {
   "cell_type": "code",
   "execution_count": 18,
   "metadata": {},
   "outputs": [],
   "source": [
    "# with the arg defaults shown, this will \n",
    "# calculate the money accumulated after \n",
    "# 31 days, with weekly deposits of $10, \n",
    "# at a 10% interest rate compounded\n",
    "# on each business day\n",
    "\n",
    "def savings(start = '2018-03-01', end = '2018-03-31',\\\n",
    "            depositFreq='W', depositAmount=10., \n",
    "            compoundFreq='B', interestRate=.1 ):\n",
    "    period = pd.date_range(start, end)\n",
    "    balance = 0.0\n",
    "    money=pd.DataFrame(index = period)\n",
    "    \n",
    "    day = period.day_name()\n",
    "    \n",
    "    depIndex = pd.date_range(start, end, freq=depositFreq)\n",
    "    deposit = pd.Series(depositAmount, index=depIndex)\n",
    "    compIndex = pd.date_range(start,end, freq = compoundFreq)\n",
    "    interest = pd.Series(interestRate, index = compIndex)\n",
    "    \n",
    "    intser = pd.Series(0.0, index = period)\n",
    "    balser = pd.Series(0.0, index = period)\n",
    "    \n",
    "    money['days'] = day\n",
    "    money['deposits'] = deposit\n",
    "    money['compound'] = interest\n",
    "    \n",
    "    money.fillna(0, inplace= True)\n",
    "    \n",
    "    for j,t in enumerate(money.itertuples()):\n",
    "        # pull out row values\n",
    "        td = t.deposits\n",
    "        ti = t.compound\n",
    "        # calculate interest and new balance\n",
    "        balance += td\n",
    "        interest = balance * ti\n",
    "        balance += interest\n",
    "        # update the series objects\n",
    "        balser[j] = balance\n",
    "        intser[j] = interest\n",
    "        \n",
    "    money['interest'] = intser\n",
    "    money['balance'] = balser\n",
    "   \n",
    "    return money\n",
    "    \n"
   ]
  },
  {
   "cell_type": "code",
   "execution_count": null,
   "metadata": {},
   "outputs": [],
   "source": []
  },
  {
   "cell_type": "markdown",
   "metadata": {},
   "source": [
    "# tips"
   ]
  },
  {
   "cell_type": "code",
   "execution_count": null,
   "metadata": {},
   "outputs": [],
   "source": []
  },
  {
   "cell_type": "code",
   "execution_count": 19,
   "metadata": {},
   "outputs": [
    {
     "data": {
      "text/plain": [
       "'Saturday'"
      ]
     },
     "execution_count": 19,
     "metadata": {},
     "output_type": "execute_result"
    }
   ],
   "source": [
    "# get day name from a date\n",
    "\n",
    "datetime.now().strftime('%A')"
   ]
  },
  {
   "cell_type": "code",
   "execution_count": 20,
   "metadata": {},
   "outputs": [
    {
     "data": {
      "text/html": [
       "<div>\n",
       "<style scoped>\n",
       "    .dataframe tbody tr th:only-of-type {\n",
       "        vertical-align: middle;\n",
       "    }\n",
       "\n",
       "    .dataframe tbody tr th {\n",
       "        vertical-align: top;\n",
       "    }\n",
       "\n",
       "    .dataframe thead th {\n",
       "        text-align: right;\n",
       "    }\n",
       "</style>\n",
       "<table border=\"1\" class=\"dataframe\">\n",
       "  <thead>\n",
       "    <tr style=\"text-align: right;\">\n",
       "      <th></th>\n",
       "    </tr>\n",
       "  </thead>\n",
       "  <tbody>\n",
       "    <tr>\n",
       "      <th>day1</th>\n",
       "    </tr>\n",
       "    <tr>\n",
       "      <th>day2</th>\n",
       "    </tr>\n",
       "  </tbody>\n",
       "</table>\n",
       "</div>"
      ],
      "text/plain": [
       "Empty DataFrame\n",
       "Columns: []\n",
       "Index: [day1, day2]"
      ]
     },
     "execution_count": 20,
     "metadata": {},
     "output_type": "execute_result"
    }
   ],
   "source": [
    "# make DataFrame with an index but no columns\n",
    "\n",
    "days = ['day1', 'day2']\n",
    "nocol=pd.DataFrame(index=days)\n",
    "nocol"
   ]
  },
  {
   "cell_type": "code",
   "execution_count": 21,
   "metadata": {},
   "outputs": [
    {
     "data": {
      "text/plain": [
       "day1    0\n",
       "day2    0\n",
       "dtype: int64"
      ]
     },
     "execution_count": 21,
     "metadata": {},
     "output_type": "execute_result"
    }
   ],
   "source": [
    "# can give a Series a single data value, \n",
    "# and it will be repeated\n",
    "# to be as long as the index\n",
    "\n",
    "pd.Series(0, index=days)"
   ]
  },
  {
   "cell_type": "code",
   "execution_count": 22,
   "metadata": {},
   "outputs": [
    {
     "data": {
      "text/plain": [
       "day1    Tues\n",
       "day2     Wed\n",
       "dtype: object"
      ]
     },
     "execution_count": 22,
     "metadata": {},
     "output_type": "execute_result"
    }
   ],
   "source": [
    "# a Series can be added as a column to a DataFrame\n",
    "\n",
    "ser = pd.Series(['Tues','Wed'], index=days)\n",
    "ser"
   ]
  },
  {
   "cell_type": "code",
   "execution_count": 23,
   "metadata": {},
   "outputs": [
    {
     "data": {
      "text/html": [
       "<div>\n",
       "<style scoped>\n",
       "    .dataframe tbody tr th:only-of-type {\n",
       "        vertical-align: middle;\n",
       "    }\n",
       "\n",
       "    .dataframe tbody tr th {\n",
       "        vertical-align: top;\n",
       "    }\n",
       "\n",
       "    .dataframe thead th {\n",
       "        text-align: right;\n",
       "    }\n",
       "</style>\n",
       "<table border=\"1\" class=\"dataframe\">\n",
       "  <thead>\n",
       "    <tr style=\"text-align: right;\">\n",
       "      <th></th>\n",
       "      <th>day</th>\n",
       "    </tr>\n",
       "  </thead>\n",
       "  <tbody>\n",
       "    <tr>\n",
       "      <th>day1</th>\n",
       "      <td>Tues</td>\n",
       "    </tr>\n",
       "    <tr>\n",
       "      <th>day2</th>\n",
       "      <td>Wed</td>\n",
       "    </tr>\n",
       "  </tbody>\n",
       "</table>\n",
       "</div>"
      ],
      "text/plain": [
       "       day\n",
       "day1  Tues\n",
       "day2   Wed"
      ]
     },
     "execution_count": 23,
     "metadata": {},
     "output_type": "execute_result"
    }
   ],
   "source": [
    "# add ser as a column - like setting a dict\n",
    "\n",
    "nocol['day'] = ser\n",
    "nocol"
   ]
  },
  {
   "cell_type": "code",
   "execution_count": 24,
   "metadata": {},
   "outputs": [
    {
     "name": "stdout",
     "output_type": "stream",
     "text": [
      "Tues\n",
      "Wed\n"
     ]
    }
   ],
   "source": [
    "# you can iterate over the rows of a \n",
    "# DataFrame with itertuples()\n",
    "# t.X gets the value of the column \n",
    "# named X in the row\n",
    "\n",
    "for t in nocol.itertuples():\n",
    "    print(t.day)"
   ]
  },
  {
   "cell_type": "markdown",
   "metadata": {},
   "source": [
    "# savings examples"
   ]
  },
  {
   "cell_type": "code",
   "execution_count": 25,
   "metadata": {},
   "outputs": [
    {
     "data": {
      "text/html": [
       "<div>\n",
       "<style scoped>\n",
       "    .dataframe tbody tr th:only-of-type {\n",
       "        vertical-align: middle;\n",
       "    }\n",
       "\n",
       "    .dataframe tbody tr th {\n",
       "        vertical-align: top;\n",
       "    }\n",
       "\n",
       "    .dataframe thead th {\n",
       "        text-align: right;\n",
       "    }\n",
       "</style>\n",
       "<table border=\"1\" class=\"dataframe\">\n",
       "  <thead>\n",
       "    <tr style=\"text-align: right;\">\n",
       "      <th></th>\n",
       "      <th>days</th>\n",
       "      <th>deposits</th>\n",
       "      <th>compound</th>\n",
       "      <th>interest</th>\n",
       "      <th>balance</th>\n",
       "    </tr>\n",
       "  </thead>\n",
       "  <tbody>\n",
       "    <tr>\n",
       "      <th>2018-03-01</th>\n",
       "      <td>Thursday</td>\n",
       "      <td>0.0</td>\n",
       "      <td>0.1</td>\n",
       "      <td>0.000000</td>\n",
       "      <td>0.000000</td>\n",
       "    </tr>\n",
       "    <tr>\n",
       "      <th>2018-03-02</th>\n",
       "      <td>Friday</td>\n",
       "      <td>0.0</td>\n",
       "      <td>0.1</td>\n",
       "      <td>0.000000</td>\n",
       "      <td>0.000000</td>\n",
       "    </tr>\n",
       "    <tr>\n",
       "      <th>2018-03-03</th>\n",
       "      <td>Saturday</td>\n",
       "      <td>0.0</td>\n",
       "      <td>0.0</td>\n",
       "      <td>0.000000</td>\n",
       "      <td>0.000000</td>\n",
       "    </tr>\n",
       "    <tr>\n",
       "      <th>2018-03-04</th>\n",
       "      <td>Sunday</td>\n",
       "      <td>10.0</td>\n",
       "      <td>0.0</td>\n",
       "      <td>0.000000</td>\n",
       "      <td>10.000000</td>\n",
       "    </tr>\n",
       "    <tr>\n",
       "      <th>2018-03-05</th>\n",
       "      <td>Monday</td>\n",
       "      <td>0.0</td>\n",
       "      <td>0.1</td>\n",
       "      <td>1.000000</td>\n",
       "      <td>11.000000</td>\n",
       "    </tr>\n",
       "    <tr>\n",
       "      <th>2018-03-06</th>\n",
       "      <td>Tuesday</td>\n",
       "      <td>0.0</td>\n",
       "      <td>0.1</td>\n",
       "      <td>1.100000</td>\n",
       "      <td>12.100000</td>\n",
       "    </tr>\n",
       "    <tr>\n",
       "      <th>2018-03-07</th>\n",
       "      <td>Wednesday</td>\n",
       "      <td>0.0</td>\n",
       "      <td>0.1</td>\n",
       "      <td>1.210000</td>\n",
       "      <td>13.310000</td>\n",
       "    </tr>\n",
       "    <tr>\n",
       "      <th>2018-03-08</th>\n",
       "      <td>Thursday</td>\n",
       "      <td>0.0</td>\n",
       "      <td>0.1</td>\n",
       "      <td>1.331000</td>\n",
       "      <td>14.641000</td>\n",
       "    </tr>\n",
       "    <tr>\n",
       "      <th>2018-03-09</th>\n",
       "      <td>Friday</td>\n",
       "      <td>0.0</td>\n",
       "      <td>0.1</td>\n",
       "      <td>1.464100</td>\n",
       "      <td>16.105100</td>\n",
       "    </tr>\n",
       "    <tr>\n",
       "      <th>2018-03-10</th>\n",
       "      <td>Saturday</td>\n",
       "      <td>0.0</td>\n",
       "      <td>0.0</td>\n",
       "      <td>0.000000</td>\n",
       "      <td>16.105100</td>\n",
       "    </tr>\n",
       "    <tr>\n",
       "      <th>2018-03-11</th>\n",
       "      <td>Sunday</td>\n",
       "      <td>10.0</td>\n",
       "      <td>0.0</td>\n",
       "      <td>0.000000</td>\n",
       "      <td>26.105100</td>\n",
       "    </tr>\n",
       "    <tr>\n",
       "      <th>2018-03-12</th>\n",
       "      <td>Monday</td>\n",
       "      <td>0.0</td>\n",
       "      <td>0.1</td>\n",
       "      <td>2.610510</td>\n",
       "      <td>28.715610</td>\n",
       "    </tr>\n",
       "    <tr>\n",
       "      <th>2018-03-13</th>\n",
       "      <td>Tuesday</td>\n",
       "      <td>0.0</td>\n",
       "      <td>0.1</td>\n",
       "      <td>2.871561</td>\n",
       "      <td>31.587171</td>\n",
       "    </tr>\n",
       "    <tr>\n",
       "      <th>2018-03-14</th>\n",
       "      <td>Wednesday</td>\n",
       "      <td>0.0</td>\n",
       "      <td>0.1</td>\n",
       "      <td>3.158717</td>\n",
       "      <td>34.745888</td>\n",
       "    </tr>\n",
       "    <tr>\n",
       "      <th>2018-03-15</th>\n",
       "      <td>Thursday</td>\n",
       "      <td>0.0</td>\n",
       "      <td>0.1</td>\n",
       "      <td>3.474589</td>\n",
       "      <td>38.220477</td>\n",
       "    </tr>\n",
       "    <tr>\n",
       "      <th>2018-03-16</th>\n",
       "      <td>Friday</td>\n",
       "      <td>0.0</td>\n",
       "      <td>0.1</td>\n",
       "      <td>3.822048</td>\n",
       "      <td>42.042525</td>\n",
       "    </tr>\n",
       "    <tr>\n",
       "      <th>2018-03-17</th>\n",
       "      <td>Saturday</td>\n",
       "      <td>0.0</td>\n",
       "      <td>0.0</td>\n",
       "      <td>0.000000</td>\n",
       "      <td>42.042525</td>\n",
       "    </tr>\n",
       "    <tr>\n",
       "      <th>2018-03-18</th>\n",
       "      <td>Sunday</td>\n",
       "      <td>10.0</td>\n",
       "      <td>0.0</td>\n",
       "      <td>0.000000</td>\n",
       "      <td>52.042525</td>\n",
       "    </tr>\n",
       "    <tr>\n",
       "      <th>2018-03-19</th>\n",
       "      <td>Monday</td>\n",
       "      <td>0.0</td>\n",
       "      <td>0.1</td>\n",
       "      <td>5.204252</td>\n",
       "      <td>57.246777</td>\n",
       "    </tr>\n",
       "    <tr>\n",
       "      <th>2018-03-20</th>\n",
       "      <td>Tuesday</td>\n",
       "      <td>0.0</td>\n",
       "      <td>0.1</td>\n",
       "      <td>5.724678</td>\n",
       "      <td>62.971455</td>\n",
       "    </tr>\n",
       "    <tr>\n",
       "      <th>2018-03-21</th>\n",
       "      <td>Wednesday</td>\n",
       "      <td>0.0</td>\n",
       "      <td>0.1</td>\n",
       "      <td>6.297145</td>\n",
       "      <td>69.268600</td>\n",
       "    </tr>\n",
       "    <tr>\n",
       "      <th>2018-03-22</th>\n",
       "      <td>Thursday</td>\n",
       "      <td>0.0</td>\n",
       "      <td>0.1</td>\n",
       "      <td>6.926860</td>\n",
       "      <td>76.195460</td>\n",
       "    </tr>\n",
       "    <tr>\n",
       "      <th>2018-03-23</th>\n",
       "      <td>Friday</td>\n",
       "      <td>0.0</td>\n",
       "      <td>0.1</td>\n",
       "      <td>7.619546</td>\n",
       "      <td>83.815006</td>\n",
       "    </tr>\n",
       "    <tr>\n",
       "      <th>2018-03-24</th>\n",
       "      <td>Saturday</td>\n",
       "      <td>0.0</td>\n",
       "      <td>0.0</td>\n",
       "      <td>0.000000</td>\n",
       "      <td>83.815006</td>\n",
       "    </tr>\n",
       "    <tr>\n",
       "      <th>2018-03-25</th>\n",
       "      <td>Sunday</td>\n",
       "      <td>10.0</td>\n",
       "      <td>0.0</td>\n",
       "      <td>0.000000</td>\n",
       "      <td>93.815006</td>\n",
       "    </tr>\n",
       "    <tr>\n",
       "      <th>2018-03-26</th>\n",
       "      <td>Monday</td>\n",
       "      <td>0.0</td>\n",
       "      <td>0.1</td>\n",
       "      <td>9.381501</td>\n",
       "      <td>103.196507</td>\n",
       "    </tr>\n",
       "    <tr>\n",
       "      <th>2018-03-27</th>\n",
       "      <td>Tuesday</td>\n",
       "      <td>0.0</td>\n",
       "      <td>0.1</td>\n",
       "      <td>10.319651</td>\n",
       "      <td>113.516158</td>\n",
       "    </tr>\n",
       "    <tr>\n",
       "      <th>2018-03-28</th>\n",
       "      <td>Wednesday</td>\n",
       "      <td>0.0</td>\n",
       "      <td>0.1</td>\n",
       "      <td>11.351616</td>\n",
       "      <td>124.867773</td>\n",
       "    </tr>\n",
       "    <tr>\n",
       "      <th>2018-03-29</th>\n",
       "      <td>Thursday</td>\n",
       "      <td>0.0</td>\n",
       "      <td>0.1</td>\n",
       "      <td>12.486777</td>\n",
       "      <td>137.354551</td>\n",
       "    </tr>\n",
       "    <tr>\n",
       "      <th>2018-03-30</th>\n",
       "      <td>Friday</td>\n",
       "      <td>0.0</td>\n",
       "      <td>0.1</td>\n",
       "      <td>13.735455</td>\n",
       "      <td>151.090006</td>\n",
       "    </tr>\n",
       "    <tr>\n",
       "      <th>2018-03-31</th>\n",
       "      <td>Saturday</td>\n",
       "      <td>0.0</td>\n",
       "      <td>0.0</td>\n",
       "      <td>0.000000</td>\n",
       "      <td>151.090006</td>\n",
       "    </tr>\n",
       "  </tbody>\n",
       "</table>\n",
       "</div>"
      ],
      "text/plain": [
       "                 days  deposits  compound   interest     balance\n",
       "2018-03-01   Thursday       0.0       0.1   0.000000    0.000000\n",
       "2018-03-02     Friday       0.0       0.1   0.000000    0.000000\n",
       "2018-03-03   Saturday       0.0       0.0   0.000000    0.000000\n",
       "2018-03-04     Sunday      10.0       0.0   0.000000   10.000000\n",
       "2018-03-05     Monday       0.0       0.1   1.000000   11.000000\n",
       "2018-03-06    Tuesday       0.0       0.1   1.100000   12.100000\n",
       "2018-03-07  Wednesday       0.0       0.1   1.210000   13.310000\n",
       "2018-03-08   Thursday       0.0       0.1   1.331000   14.641000\n",
       "2018-03-09     Friday       0.0       0.1   1.464100   16.105100\n",
       "2018-03-10   Saturday       0.0       0.0   0.000000   16.105100\n",
       "2018-03-11     Sunday      10.0       0.0   0.000000   26.105100\n",
       "2018-03-12     Monday       0.0       0.1   2.610510   28.715610\n",
       "2018-03-13    Tuesday       0.0       0.1   2.871561   31.587171\n",
       "2018-03-14  Wednesday       0.0       0.1   3.158717   34.745888\n",
       "2018-03-15   Thursday       0.0       0.1   3.474589   38.220477\n",
       "2018-03-16     Friday       0.0       0.1   3.822048   42.042525\n",
       "2018-03-17   Saturday       0.0       0.0   0.000000   42.042525\n",
       "2018-03-18     Sunday      10.0       0.0   0.000000   52.042525\n",
       "2018-03-19     Monday       0.0       0.1   5.204252   57.246777\n",
       "2018-03-20    Tuesday       0.0       0.1   5.724678   62.971455\n",
       "2018-03-21  Wednesday       0.0       0.1   6.297145   69.268600\n",
       "2018-03-22   Thursday       0.0       0.1   6.926860   76.195460\n",
       "2018-03-23     Friday       0.0       0.1   7.619546   83.815006\n",
       "2018-03-24   Saturday       0.0       0.0   0.000000   83.815006\n",
       "2018-03-25     Sunday      10.0       0.0   0.000000   93.815006\n",
       "2018-03-26     Monday       0.0       0.1   9.381501  103.196507\n",
       "2018-03-27    Tuesday       0.0       0.1  10.319651  113.516158\n",
       "2018-03-28  Wednesday       0.0       0.1  11.351616  124.867773\n",
       "2018-03-29   Thursday       0.0       0.1  12.486777  137.354551\n",
       "2018-03-30     Friday       0.0       0.1  13.735455  151.090006\n",
       "2018-03-31   Saturday       0.0       0.0   0.000000  151.090006"
      ]
     },
     "execution_count": 25,
     "metadata": {},
     "output_type": "execute_result"
    }
   ],
   "source": [
    "savings()"
   ]
  },
  {
   "cell_type": "code",
   "execution_count": 26,
   "metadata": {},
   "outputs": [
    {
     "data": {
      "text/html": [
       "<div>\n",
       "<style scoped>\n",
       "    .dataframe tbody tr th:only-of-type {\n",
       "        vertical-align: middle;\n",
       "    }\n",
       "\n",
       "    .dataframe tbody tr th {\n",
       "        vertical-align: top;\n",
       "    }\n",
       "\n",
       "    .dataframe thead th {\n",
       "        text-align: right;\n",
       "    }\n",
       "</style>\n",
       "<table border=\"1\" class=\"dataframe\">\n",
       "  <thead>\n",
       "    <tr style=\"text-align: right;\">\n",
       "      <th></th>\n",
       "      <th>days</th>\n",
       "      <th>deposits</th>\n",
       "      <th>compound</th>\n",
       "      <th>interest</th>\n",
       "      <th>balance</th>\n",
       "    </tr>\n",
       "  </thead>\n",
       "  <tbody>\n",
       "    <tr>\n",
       "      <th>2018-03-01</th>\n",
       "      <td>Thursday</td>\n",
       "      <td>10.0</td>\n",
       "      <td>0.1</td>\n",
       "      <td>1.000000</td>\n",
       "      <td>11.000000</td>\n",
       "    </tr>\n",
       "    <tr>\n",
       "      <th>2018-03-02</th>\n",
       "      <td>Friday</td>\n",
       "      <td>10.0</td>\n",
       "      <td>0.1</td>\n",
       "      <td>2.100000</td>\n",
       "      <td>23.100000</td>\n",
       "    </tr>\n",
       "    <tr>\n",
       "      <th>2018-03-03</th>\n",
       "      <td>Saturday</td>\n",
       "      <td>0.0</td>\n",
       "      <td>0.0</td>\n",
       "      <td>0.000000</td>\n",
       "      <td>23.100000</td>\n",
       "    </tr>\n",
       "    <tr>\n",
       "      <th>2018-03-04</th>\n",
       "      <td>Sunday</td>\n",
       "      <td>0.0</td>\n",
       "      <td>0.0</td>\n",
       "      <td>0.000000</td>\n",
       "      <td>23.100000</td>\n",
       "    </tr>\n",
       "    <tr>\n",
       "      <th>2018-03-05</th>\n",
       "      <td>Monday</td>\n",
       "      <td>10.0</td>\n",
       "      <td>0.1</td>\n",
       "      <td>3.310000</td>\n",
       "      <td>36.410000</td>\n",
       "    </tr>\n",
       "    <tr>\n",
       "      <th>2018-03-06</th>\n",
       "      <td>Tuesday</td>\n",
       "      <td>10.0</td>\n",
       "      <td>0.1</td>\n",
       "      <td>4.641000</td>\n",
       "      <td>51.051000</td>\n",
       "    </tr>\n",
       "    <tr>\n",
       "      <th>2018-03-07</th>\n",
       "      <td>Wednesday</td>\n",
       "      <td>10.0</td>\n",
       "      <td>0.1</td>\n",
       "      <td>6.105100</td>\n",
       "      <td>67.156100</td>\n",
       "    </tr>\n",
       "    <tr>\n",
       "      <th>2018-03-08</th>\n",
       "      <td>Thursday</td>\n",
       "      <td>10.0</td>\n",
       "      <td>0.1</td>\n",
       "      <td>7.715610</td>\n",
       "      <td>84.871710</td>\n",
       "    </tr>\n",
       "    <tr>\n",
       "      <th>2018-03-09</th>\n",
       "      <td>Friday</td>\n",
       "      <td>10.0</td>\n",
       "      <td>0.1</td>\n",
       "      <td>9.487171</td>\n",
       "      <td>104.358881</td>\n",
       "    </tr>\n",
       "    <tr>\n",
       "      <th>2018-03-10</th>\n",
       "      <td>Saturday</td>\n",
       "      <td>0.0</td>\n",
       "      <td>0.0</td>\n",
       "      <td>0.000000</td>\n",
       "      <td>104.358881</td>\n",
       "    </tr>\n",
       "    <tr>\n",
       "      <th>2018-03-11</th>\n",
       "      <td>Sunday</td>\n",
       "      <td>0.0</td>\n",
       "      <td>0.0</td>\n",
       "      <td>0.000000</td>\n",
       "      <td>104.358881</td>\n",
       "    </tr>\n",
       "    <tr>\n",
       "      <th>2018-03-12</th>\n",
       "      <td>Monday</td>\n",
       "      <td>10.0</td>\n",
       "      <td>0.1</td>\n",
       "      <td>11.435888</td>\n",
       "      <td>125.794769</td>\n",
       "    </tr>\n",
       "    <tr>\n",
       "      <th>2018-03-13</th>\n",
       "      <td>Tuesday</td>\n",
       "      <td>10.0</td>\n",
       "      <td>0.1</td>\n",
       "      <td>13.579477</td>\n",
       "      <td>149.374246</td>\n",
       "    </tr>\n",
       "    <tr>\n",
       "      <th>2018-03-14</th>\n",
       "      <td>Wednesday</td>\n",
       "      <td>10.0</td>\n",
       "      <td>0.1</td>\n",
       "      <td>15.937425</td>\n",
       "      <td>175.311671</td>\n",
       "    </tr>\n",
       "    <tr>\n",
       "      <th>2018-03-15</th>\n",
       "      <td>Thursday</td>\n",
       "      <td>10.0</td>\n",
       "      <td>0.1</td>\n",
       "      <td>18.531167</td>\n",
       "      <td>203.842838</td>\n",
       "    </tr>\n",
       "    <tr>\n",
       "      <th>2018-03-16</th>\n",
       "      <td>Friday</td>\n",
       "      <td>10.0</td>\n",
       "      <td>0.1</td>\n",
       "      <td>21.384284</td>\n",
       "      <td>235.227121</td>\n",
       "    </tr>\n",
       "    <tr>\n",
       "      <th>2018-03-17</th>\n",
       "      <td>Saturday</td>\n",
       "      <td>0.0</td>\n",
       "      <td>0.0</td>\n",
       "      <td>0.000000</td>\n",
       "      <td>235.227121</td>\n",
       "    </tr>\n",
       "    <tr>\n",
       "      <th>2018-03-18</th>\n",
       "      <td>Sunday</td>\n",
       "      <td>0.0</td>\n",
       "      <td>0.0</td>\n",
       "      <td>0.000000</td>\n",
       "      <td>235.227121</td>\n",
       "    </tr>\n",
       "    <tr>\n",
       "      <th>2018-03-19</th>\n",
       "      <td>Monday</td>\n",
       "      <td>10.0</td>\n",
       "      <td>0.1</td>\n",
       "      <td>24.522712</td>\n",
       "      <td>269.749834</td>\n",
       "    </tr>\n",
       "    <tr>\n",
       "      <th>2018-03-20</th>\n",
       "      <td>Tuesday</td>\n",
       "      <td>10.0</td>\n",
       "      <td>0.1</td>\n",
       "      <td>27.974983</td>\n",
       "      <td>307.724817</td>\n",
       "    </tr>\n",
       "    <tr>\n",
       "      <th>2018-03-21</th>\n",
       "      <td>Wednesday</td>\n",
       "      <td>10.0</td>\n",
       "      <td>0.1</td>\n",
       "      <td>31.772482</td>\n",
       "      <td>349.497299</td>\n",
       "    </tr>\n",
       "    <tr>\n",
       "      <th>2018-03-22</th>\n",
       "      <td>Thursday</td>\n",
       "      <td>10.0</td>\n",
       "      <td>0.1</td>\n",
       "      <td>35.949730</td>\n",
       "      <td>395.447028</td>\n",
       "    </tr>\n",
       "    <tr>\n",
       "      <th>2018-03-23</th>\n",
       "      <td>Friday</td>\n",
       "      <td>10.0</td>\n",
       "      <td>0.1</td>\n",
       "      <td>40.544703</td>\n",
       "      <td>445.991731</td>\n",
       "    </tr>\n",
       "    <tr>\n",
       "      <th>2018-03-24</th>\n",
       "      <td>Saturday</td>\n",
       "      <td>0.0</td>\n",
       "      <td>0.0</td>\n",
       "      <td>0.000000</td>\n",
       "      <td>445.991731</td>\n",
       "    </tr>\n",
       "    <tr>\n",
       "      <th>2018-03-25</th>\n",
       "      <td>Sunday</td>\n",
       "      <td>0.0</td>\n",
       "      <td>0.0</td>\n",
       "      <td>0.000000</td>\n",
       "      <td>445.991731</td>\n",
       "    </tr>\n",
       "    <tr>\n",
       "      <th>2018-03-26</th>\n",
       "      <td>Monday</td>\n",
       "      <td>10.0</td>\n",
       "      <td>0.1</td>\n",
       "      <td>45.599173</td>\n",
       "      <td>501.590904</td>\n",
       "    </tr>\n",
       "    <tr>\n",
       "      <th>2018-03-27</th>\n",
       "      <td>Tuesday</td>\n",
       "      <td>10.0</td>\n",
       "      <td>0.1</td>\n",
       "      <td>51.159090</td>\n",
       "      <td>562.749995</td>\n",
       "    </tr>\n",
       "    <tr>\n",
       "      <th>2018-03-28</th>\n",
       "      <td>Wednesday</td>\n",
       "      <td>10.0</td>\n",
       "      <td>0.1</td>\n",
       "      <td>57.274999</td>\n",
       "      <td>630.024994</td>\n",
       "    </tr>\n",
       "    <tr>\n",
       "      <th>2018-03-29</th>\n",
       "      <td>Thursday</td>\n",
       "      <td>10.0</td>\n",
       "      <td>0.1</td>\n",
       "      <td>64.002499</td>\n",
       "      <td>704.027494</td>\n",
       "    </tr>\n",
       "    <tr>\n",
       "      <th>2018-03-30</th>\n",
       "      <td>Friday</td>\n",
       "      <td>10.0</td>\n",
       "      <td>0.1</td>\n",
       "      <td>71.402749</td>\n",
       "      <td>785.430243</td>\n",
       "    </tr>\n",
       "    <tr>\n",
       "      <th>2018-03-31</th>\n",
       "      <td>Saturday</td>\n",
       "      <td>0.0</td>\n",
       "      <td>0.0</td>\n",
       "      <td>0.000000</td>\n",
       "      <td>785.430243</td>\n",
       "    </tr>\n",
       "  </tbody>\n",
       "</table>\n",
       "</div>"
      ],
      "text/plain": [
       "                 days  deposits  compound   interest     balance\n",
       "2018-03-01   Thursday      10.0       0.1   1.000000   11.000000\n",
       "2018-03-02     Friday      10.0       0.1   2.100000   23.100000\n",
       "2018-03-03   Saturday       0.0       0.0   0.000000   23.100000\n",
       "2018-03-04     Sunday       0.0       0.0   0.000000   23.100000\n",
       "2018-03-05     Monday      10.0       0.1   3.310000   36.410000\n",
       "2018-03-06    Tuesday      10.0       0.1   4.641000   51.051000\n",
       "2018-03-07  Wednesday      10.0       0.1   6.105100   67.156100\n",
       "2018-03-08   Thursday      10.0       0.1   7.715610   84.871710\n",
       "2018-03-09     Friday      10.0       0.1   9.487171  104.358881\n",
       "2018-03-10   Saturday       0.0       0.0   0.000000  104.358881\n",
       "2018-03-11     Sunday       0.0       0.0   0.000000  104.358881\n",
       "2018-03-12     Monday      10.0       0.1  11.435888  125.794769\n",
       "2018-03-13    Tuesday      10.0       0.1  13.579477  149.374246\n",
       "2018-03-14  Wednesday      10.0       0.1  15.937425  175.311671\n",
       "2018-03-15   Thursday      10.0       0.1  18.531167  203.842838\n",
       "2018-03-16     Friday      10.0       0.1  21.384284  235.227121\n",
       "2018-03-17   Saturday       0.0       0.0   0.000000  235.227121\n",
       "2018-03-18     Sunday       0.0       0.0   0.000000  235.227121\n",
       "2018-03-19     Monday      10.0       0.1  24.522712  269.749834\n",
       "2018-03-20    Tuesday      10.0       0.1  27.974983  307.724817\n",
       "2018-03-21  Wednesday      10.0       0.1  31.772482  349.497299\n",
       "2018-03-22   Thursday      10.0       0.1  35.949730  395.447028\n",
       "2018-03-23     Friday      10.0       0.1  40.544703  445.991731\n",
       "2018-03-24   Saturday       0.0       0.0   0.000000  445.991731\n",
       "2018-03-25     Sunday       0.0       0.0   0.000000  445.991731\n",
       "2018-03-26     Monday      10.0       0.1  45.599173  501.590904\n",
       "2018-03-27    Tuesday      10.0       0.1  51.159090  562.749995\n",
       "2018-03-28  Wednesday      10.0       0.1  57.274999  630.024994\n",
       "2018-03-29   Thursday      10.0       0.1  64.002499  704.027494\n",
       "2018-03-30     Friday      10.0       0.1  71.402749  785.430243\n",
       "2018-03-31   Saturday       0.0       0.0   0.000000  785.430243"
      ]
     },
     "execution_count": 26,
     "metadata": {},
     "output_type": "execute_result"
    }
   ],
   "source": [
    "# more aggressive savings\n",
    "\n",
    "savings(depositFreq='B')"
   ]
  },
  {
   "cell_type": "markdown",
   "metadata": {},
   "source": [
    "# howto build the savings pandas in multiple steps"
   ]
  },
  {
   "cell_type": "code",
   "execution_count": 27,
   "metadata": {},
   "outputs": [],
   "source": [
    "# default interval\n",
    "\n",
    "start = '2018-03-01'\n",
    "end = '2018-03-31'\n",
    "\n"
   ]
  },
  {
   "cell_type": "code",
   "execution_count": 28,
   "metadata": {},
   "outputs": [
    {
     "ename": "NameError",
     "evalue": "name 'money' is not defined",
     "output_type": "error",
     "traceback": [
      "\u001b[0;31m---------------------------------------------------------------------------\u001b[0m",
      "\u001b[0;31mNameError\u001b[0m                                 Traceback (most recent call last)",
      "\u001b[0;32m<ipython-input-28-cd4135f89902>\u001b[0m in \u001b[0;36m<module>\u001b[0;34m()\u001b[0m\n\u001b[1;32m      4\u001b[0m \u001b[0;31m# (start, end) interval\u001b[0m\u001b[0;34m\u001b[0m\u001b[0;34m\u001b[0m\u001b[0m\n\u001b[1;32m      5\u001b[0m \u001b[0;34m\u001b[0m\u001b[0m\n\u001b[0;32m----> 6\u001b[0;31m \u001b[0mmoney\u001b[0m\u001b[0;34m\u001b[0m\u001b[0m\n\u001b[0m",
      "\u001b[0;31mNameError\u001b[0m: name 'money' is not defined"
     ]
    }
   ],
   "source": [
    "# using pd.date_range, make a DataFrame \n",
    "# called 'money' with no columns, and\n",
    "# an index of all the days in the \n",
    "# (start, end) interval\n",
    "\n",
    "money"
   ]
  },
  {
   "cell_type": "code",
   "execution_count": 29,
   "metadata": {},
   "outputs": [
    {
     "ename": "NameError",
     "evalue": "name 'money' is not defined",
     "output_type": "error",
     "traceback": [
      "\u001b[0;31m---------------------------------------------------------------------------\u001b[0m",
      "\u001b[0;31mNameError\u001b[0m                                 Traceback (most recent call last)",
      "\u001b[0;32m<ipython-input-29-8bad384e3ec4>\u001b[0m in \u001b[0;36m<module>\u001b[0;34m()\u001b[0m\n\u001b[1;32m      1\u001b[0m \u001b[0;31m# add a 'day' column to money\u001b[0m\u001b[0;34m\u001b[0m\u001b[0;34m\u001b[0m\u001b[0m\n\u001b[1;32m      2\u001b[0m \u001b[0;34m\u001b[0m\u001b[0m\n\u001b[0;32m----> 3\u001b[0;31m \u001b[0mmoney\u001b[0m\u001b[0;34m\u001b[0m\u001b[0m\n\u001b[0m",
      "\u001b[0;31mNameError\u001b[0m: name 'money' is not defined"
     ]
    }
   ],
   "source": [
    "# add a 'day' column to money\n",
    "\n",
    "money"
   ]
  },
  {
   "cell_type": "code",
   "execution_count": 30,
   "metadata": {},
   "outputs": [
    {
     "ename": "NameError",
     "evalue": "name 'deposits' is not defined",
     "output_type": "error",
     "traceback": [
      "\u001b[0;31m---------------------------------------------------------------------------\u001b[0m",
      "\u001b[0;31mNameError\u001b[0m                                 Traceback (most recent call last)",
      "\u001b[0;32m<ipython-input-30-8b2fe03c5c1d>\u001b[0m in \u001b[0;36m<module>\u001b[0;34m()\u001b[0m\n\u001b[1;32m      2\u001b[0m \u001b[0;31m# at the correct frequency and amount\u001b[0m\u001b[0;34m\u001b[0m\u001b[0;34m\u001b[0m\u001b[0m\n\u001b[1;32m      3\u001b[0m \u001b[0;34m\u001b[0m\u001b[0m\n\u001b[0;32m----> 4\u001b[0;31m \u001b[0mdeposits\u001b[0m\u001b[0;34m\u001b[0m\u001b[0m\n\u001b[0m",
      "\u001b[0;31mNameError\u001b[0m: name 'deposits' is not defined"
     ]
    }
   ],
   "source": [
    "# make a 'deposits' series, \n",
    "# at the correct frequency and amount\n",
    "\n",
    "deposits"
   ]
  },
  {
   "cell_type": "code",
   "execution_count": 31,
   "metadata": {},
   "outputs": [
    {
     "ename": "NameError",
     "evalue": "name 'compound' is not defined",
     "output_type": "error",
     "traceback": [
      "\u001b[0;31m---------------------------------------------------------------------------\u001b[0m",
      "\u001b[0;31mNameError\u001b[0m                                 Traceback (most recent call last)",
      "\u001b[0;32m<ipython-input-31-b3160009f9d9>\u001b[0m in \u001b[0;36m<module>\u001b[0;34m()\u001b[0m\n\u001b[1;32m      2\u001b[0m \u001b[0;31m# at correct frequency\u001b[0m\u001b[0;34m\u001b[0m\u001b[0;34m\u001b[0m\u001b[0m\n\u001b[1;32m      3\u001b[0m \u001b[0;34m\u001b[0m\u001b[0m\n\u001b[0;32m----> 4\u001b[0;31m \u001b[0mcompound\u001b[0m\u001b[0;34m\u001b[0m\u001b[0m\n\u001b[0m",
      "\u001b[0;31mNameError\u001b[0m: name 'compound' is not defined"
     ]
    }
   ],
   "source": [
    "# likewise make series 'compound' of interestRate\n",
    "# at correct frequency\n",
    "\n",
    "compound"
   ]
  },
  {
   "cell_type": "code",
   "execution_count": 32,
   "metadata": {},
   "outputs": [
    {
     "ename": "NameError",
     "evalue": "name 'money' is not defined",
     "output_type": "error",
     "traceback": [
      "\u001b[0;31m---------------------------------------------------------------------------\u001b[0m",
      "\u001b[0;31mNameError\u001b[0m                                 Traceback (most recent call last)",
      "\u001b[0;32m<ipython-input-32-3d8c65ec6e5c>\u001b[0m in \u001b[0;36m<module>\u001b[0;34m()\u001b[0m\n\u001b[1;32m      4\u001b[0m \u001b[0;31m# on the correct dates\u001b[0m\u001b[0;34m\u001b[0m\u001b[0;34m\u001b[0m\u001b[0m\n\u001b[1;32m      5\u001b[0m \u001b[0;34m\u001b[0m\u001b[0m\n\u001b[0;32m----> 6\u001b[0;31m \u001b[0mmoney\u001b[0m\u001b[0;34m\u001b[0m\u001b[0m\n\u001b[0m",
      "\u001b[0;31mNameError\u001b[0m: name 'money' is not defined"
     ]
    }
   ],
   "source": [
    "# now add deposits and compound to money\n",
    "# do something appropriate with the NaN's\n",
    "# note that compounding and deposits are \n",
    "# on the correct dates\n",
    "\n",
    "money"
   ]
  },
  {
   "cell_type": "code",
   "execution_count": 33,
   "metadata": {},
   "outputs": [
    {
     "data": {
      "text/plain": [
       "'\\n    for j,t in enumerate(money.itertuples()):\\n        # pull out row values\\n        td = t.deposits\\n        ti = t.compound\\n        # calculate interest and new balance\\n        balance += td\\n        interest = balance * ti\\n        balance += interest\\n        # update the series objects\\n        balser[j] = balance\\n        intser[j] = interest\\n'"
      ]
     },
     "execution_count": 33,
     "metadata": {},
     "output_type": "execute_result"
    }
   ],
   "source": [
    "# make two more Series objects called \n",
    "# intser and balser - they should use the \n",
    "# index of all the days that money used, \n",
    "# and the initial value of all rows \n",
    "# should be 0.0\n",
    "# these will become the last two columns of money\n",
    "\n",
    "# run this loop in your savings function\n",
    "# to do the interest calculation\n",
    "\n",
    "'''\n",
    "    for j,t in enumerate(money.itertuples()):\n",
    "        # pull out row values\n",
    "        td = t.deposits\n",
    "        ti = t.compound\n",
    "        # calculate interest and new balance\n",
    "        balance += td\n",
    "        interest = balance * ti\n",
    "        balance += interest\n",
    "        # update the series objects\n",
    "        balser[j] = balance\n",
    "        intser[j] = interest\n",
    "'''\n",
    "\n",
    "# this will load up intser and balser with the \n",
    "# appropriate values finally, add them as \n",
    "# the 'interest' and 'balance' columns to money\n"
   ]
  },
  {
   "cell_type": "code",
   "execution_count": null,
   "metadata": {},
   "outputs": [],
   "source": []
  },
  {
   "cell_type": "code",
   "execution_count": null,
   "metadata": {},
   "outputs": [],
   "source": []
  }
 ],
 "metadata": {
  "anaconda-cloud": {},
  "kernelspec": {
   "display_name": "Python 3",
   "language": "python",
   "name": "python3"
  },
  "language_info": {
   "codemirror_mode": {
    "name": "ipython",
    "version": 3
   },
   "file_extension": ".py",
   "mimetype": "text/x-python",
   "name": "python",
   "nbconvert_exporter": "python",
   "pygments_lexer": "ipython3",
   "version": "3.6.5"
  },
  "name": "_merged_merged"
 },
 "nbformat": 4,
 "nbformat_minor": 1
}

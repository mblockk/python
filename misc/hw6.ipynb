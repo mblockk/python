{
 "cells": [
  {
   "cell_type": "markdown",
   "metadata": {},
   "source": [
    "# Introduction to Python \n",
    "# Homework #6\n",
    "- Due Tuesday Oct 23 at noon\n",
    "- This homework will be graded\n",
    "- You MUST submit on CourseWorks2 before it closes\n",
    "    - Verify your submission succeeded\n",
    "    - Email submissions are not accepted \n",
    "    "
   ]
  },
  {
   "cell_type": "markdown",
   "metadata": {},
   "source": [
    "# Academic Honesty\n",
    "* The computer science department has strict polices. Check\n",
    "the department [web page](http://www.cs.columbia.edu/education/honesty) for details. \n",
    "- Do not look at anybody else's source code. Do not show anybody\n",
    "your source, or leave your source where somebody could see it.\n",
    "You MUST write your own code.\n",
    "- For this class, feel free to discuss issues with other people, but suggest waiting an hour or two after a discussion, before writing your code.\n",
    "-  Cases of non original source will be refered to the Judical Committee.\n",
    "\n"
   ]
  },
  {
   "cell_type": "markdown",
   "metadata": {},
   "source": [
    "# Problem 1&2 - Python help zipfile\n",
    "- Extract data directly from a zipfile without ever unpacking it\n",
    "- use zipfile module [doc](https://docs.python.org/3.5/library/zipfile.html#zipfile.ZipInfo). \n",
    "- only need to use three methods:\n",
    "    - zipfile.ZipFile(path)\n",
    "        - 'open' the zip file and read from it\n",
    "        - like 'open', should use 'with' to manage it\n",
    "    - zipfile.namelist()\n",
    "        - returns list of the files in zip archive\n",
    "    - zipfile.open()\n",
    "        - opens a file in the zip for reading\n",
    "        - use 'with'\n"
   ]
  },
  {
   "cell_type": "markdown",
   "metadata": {},
   "source": [
    "# define help class\n",
    "- write class that extracts info from the python help files, \n",
    "packaged in a zip file\n",
    "- zip file to download [zip of python docs in plain text format](https://docs.python.org/3/archives/python-3.7.1rc2-docs-text.zip)\n",
    "    - on mac, clicking on the zip link will automatically unpack the zip archive, which we don't want. instead right click on the link, and do 'Download Linked File as...' instead\n",
    "- ```__init__(self, zippath)``` method should read in the contents of the zip file located at zippath, and save the data in the help object\n",
    "    - build in the zip file path, like 'zpath = 'python-3.7.1rc2-docs-text.zip'\n",
    "    - convert input to unicode\n",
    "    - remove new lines\n",
    "- user methods - all 3 should 'print' their results, and return 'None'. this will make it easy to use them in a script later\n",
    "    - counts(self, substring) method - checks all file lines for match, and print per file hit count, when count is non zero.\n",
    "    - files(self, substring) method - print file name, # of hits\n",
    "    - grep(self, substring) method - print file name, line number, and line of each match\n",
    "    - for files() and grep() methods, strip off the 'python-3.7.1rc2-docs-text/' at the begining of the file name\n",
    "- note that like the linux 'grep' command, multiple appearances of the search string in a single line is considered ONE hit - we are counting the lines that have a hit(s). \n"
   ]
  },
  {
   "cell_type": "code",
   "execution_count": 271,
   "metadata": {},
   "outputs": [
    {
     "name": "stdout",
     "output_type": "stream",
     "text": [
      "13\n",
      " whatsnew/2.7.txt : 1 \n",
      " whatsnew/2.5.txt : 4 \n",
      " whatsnew/3.2.txt : 2 \n",
      " whatsnew/changelog.txt : 2 \n",
      " library/importlib.txt : 1 \n",
      " library/stdtypes.txt : 3 \n",
      " whatsnew/2.7.txt(916) : b'* The \"split()\", \"replace()\", \"rindex()\", \"rpartition()\", and' \n",
      " whatsnew/2.5.txt(975) : b'\"rpartition(sep)\" methods that simplify a common use case.' \n",
      " whatsnew/2.5.txt(984) : b'\"rpartition(sep)\" also returns a 3-tuple but starts searching from' \n",
      " whatsnew/2.5.txt(995) : b\">>> 'www.python.org'.rpartition('.')\" \n",
      " whatsnew/2.5.txt(997) : b\">>> 'www.python.org'.rpartition(':')\" \n",
      " whatsnew/3.2.txt(2379) : b\"extension = name.rpartition('.')[2]\" \n",
      " whatsnew/3.2.txt(2419) : b'also used by \"rfind()\", \"rindex()\", \"rsplit()\" and \"rpartition()\".' \n",
      " whatsnew/changelog.txt(2545) : b'* bpo-20047: Bytearray methods partition() and rpartition() now' \n",
      " whatsnew/changelog.txt(6462) : b'* bpo-20047: Bytearray methods partition() and rpartition() now' \n",
      " library/importlib.txt(1673) : b\"parent_name, _, child_name = absolute_name.rpartition('.')\" \n",
      " library/stdtypes.txt(1549) : b'str.rpartition(sep)' \n",
      " library/stdtypes.txt(2319) : b'bytes.rpartition(sep)' \n",
      " library/stdtypes.txt(2320) : b'bytearray.rpartition(sep)' \n"
     ]
    }
   ],
   "source": [
    "import zipfile\n",
    "import re\n",
    "import os\n",
    "\n",
    "class help():\n",
    "\n",
    "    def __init__(self, zpath):\n",
    "        self.myzip = zipfile.ZipFile(zpath)\n",
    "        self.info = self.myzip.infolist()\n",
    "        self.names = self.myzip.namelist()\n",
    "        \n",
    "        ## Larry said I don't need to convert to unicode as long as it works\n",
    "    \n",
    "    def counts(self, substring):\n",
    "        count = 0\n",
    "        for name in self.info:\n",
    "            text = self.myzip.open(name)\n",
    "            line = str(text.readlines())\n",
    "            line = line.rstrip().lstrip()\n",
    "            count += (len(re.findall(substring, line)))\n",
    "        if (count > 0):\n",
    "            print(count)\n",
    "        return None\n",
    "    \n",
    "    def files(self, substring):\n",
    "        count = 0\n",
    "        for name in self.names:\n",
    "            text = self.myzip.open(name)\n",
    "            line = str(text.readlines())\n",
    "            line = line.rstrip().lstrip()\n",
    "            \n",
    "            count = (len(re.findall(substring, line)))\n",
    "            if(count > 0):\n",
    "                filename = os.path.relpath(name, 'python-3.7.1rc2-docs-text/')\n",
    "                print(' {} : {} '.format(filename, count))\n",
    "        return None\n",
    "    \n",
    "    def grep(self, substring):\n",
    "        count = 0\n",
    "        counter = 0\n",
    "        for name in self.names:\n",
    "            text = self.myzip.open(name)\n",
    "            for counter, line in enumerate(text.readlines(), start=0):\n",
    "                ++counter\n",
    "                line = line.rstrip().lstrip()\n",
    "                theline = str(line)\n",
    "                if substring in theline:\n",
    "                    filename = os.path.relpath(name, 'python-3.7.1rc2-docs-text/')\n",
    "                    print(' {}({}) : {} '.format(filename, counter, line))\n",
    "        return None        \n",
    "    \n",
    "            \n",
    "        \n",
    "        \n",
    "\n",
    "zpath = '/Users/michaelblock/Desktop/python/wk6/python-3.7.1rc2-docs-text.zip'\n",
    "h = help(zpath)\n",
    "h.counts('rpartition')\n",
    "h.files('rpartition')\n",
    "h.grep('rpartition')"
   ]
  },
  {
   "cell_type": "code",
   "execution_count": 272,
   "metadata": {},
   "outputs": [],
   "source": [
    "# set to where ever you place the python docs zip file\n",
    "\n",
    "zpath = '/Users/michaelblock/Desktop/python/wk6/python-3.7.1rc2-docs-text.zip'\n",
    "h = help(zpath)\n"
   ]
  },
  {
   "cell_type": "code",
   "execution_count": 273,
   "metadata": {},
   "outputs": [
    {
     "name": "stdout",
     "output_type": "stream",
     "text": [
      " whatsnew/2.7.txt : 1 \n",
      " whatsnew/2.5.txt : 4 \n",
      " whatsnew/3.2.txt : 2 \n",
      " whatsnew/changelog.txt : 2 \n",
      " library/importlib.txt : 1 \n",
      " library/stdtypes.txt : 3 \n"
     ]
    }
   ],
   "source": [
    "h.files('rpartition')"
   ]
  },
  {
   "cell_type": "code",
   "execution_count": 274,
   "metadata": {},
   "outputs": [
    {
     "name": "stdout",
     "output_type": "stream",
     "text": [
      " whatsnew/2.7.txt(916) : b'* The \"split()\", \"replace()\", \"rindex()\", \"rpartition()\", and' \n",
      " whatsnew/2.5.txt(975) : b'\"rpartition(sep)\" methods that simplify a common use case.' \n",
      " whatsnew/2.5.txt(984) : b'\"rpartition(sep)\" also returns a 3-tuple but starts searching from' \n",
      " whatsnew/2.5.txt(995) : b\">>> 'www.python.org'.rpartition('.')\" \n",
      " whatsnew/2.5.txt(997) : b\">>> 'www.python.org'.rpartition(':')\" \n",
      " whatsnew/3.2.txt(2379) : b\"extension = name.rpartition('.')[2]\" \n",
      " whatsnew/3.2.txt(2419) : b'also used by \"rfind()\", \"rindex()\", \"rsplit()\" and \"rpartition()\".' \n",
      " whatsnew/changelog.txt(2545) : b'* bpo-20047: Bytearray methods partition() and rpartition() now' \n",
      " whatsnew/changelog.txt(6462) : b'* bpo-20047: Bytearray methods partition() and rpartition() now' \n",
      " library/importlib.txt(1673) : b\"parent_name, _, child_name = absolute_name.rpartition('.')\" \n",
      " library/stdtypes.txt(1549) : b'str.rpartition(sep)' \n",
      " library/stdtypes.txt(2319) : b'bytes.rpartition(sep)' \n",
      " library/stdtypes.txt(2320) : b'bytearray.rpartition(sep)' \n"
     ]
    }
   ],
   "source": [
    "h.grep('rpartition')"
   ]
  },
  {
   "cell_type": "code",
   "execution_count": 275,
   "metadata": {},
   "outputs": [
    {
     "name": "stdout",
     "output_type": "stream",
     "text": [
      "13\n",
      "47\n",
      "65\n",
      "1388\n",
      "131\n",
      "9\n"
     ]
    }
   ],
   "source": [
    "for w in ['rpartition', 'linux','universal', \n",
    "          'mode', 'zipfile', 'zipfiles']:\n",
    "    h.counts(w)"
   ]
  },
  {
   "cell_type": "markdown",
   "metadata": {
    "collapsed": true
   },
   "source": [
    "# define python script based on help class\n",
    "- use argparse module we saw in the scripts notebook to parse command line args\n",
    "    - '-c' should run counts method\n",
    "    - '-h' shows help\n",
    "    - '-g' should run grep method\n",
    "    - '-f' should run file method\n",
    "- sample useage below\n",
    "- build the zippath into the script"
   ]
  },
  {
   "cell_type": "code",
   "execution_count": 165,
   "metadata": {},
   "outputs": [],
   "source": [
    "\n",
    "#!/usr/bin/env python\n",
    "\n",
    "# run as python script\n",
    "\n",
    "import sys\n",
    "import argparse\n",
    "import zipfile\n",
    "import re\n",
    "import os\n",
    "\n",
    "\n",
    "zpath = '/Users/michaelblock/Desktop/python/wk6/python-3.7.1rc2-docs-text.zip'\n",
    "h = help(zpath)\n",
    "        \n",
    "        \n",
    "parser = argparse.ArgumentParser()\n",
    "\n",
    "\n",
    "parser.add_argument(\"arg1\", type=str,\n",
    "                    help=\"input string\")\n",
    "\n",
    "\n",
    "# optional '-' flag with no arg\n",
    "parser.add_argument(\"-c\", \"--counts\", help=\"counts\",\n",
    "                    action=\"store_true\")\n",
    "\n",
    "# optional '-' flag no arg\n",
    "parser.add_argument(\"-g\", \"--grep\", help=\"grep\",\n",
    "\t\t\t action='store_true')\n",
    "\n",
    "\n",
    "parser.add_argument(\"-f\", \"--files\", help=\"files\",\n",
    "\t\t\t action='store_true')\n",
    "\n",
    "\n",
    "\n",
    "args = parser.parse_args()\n",
    "\n",
    "if args.counts:\n",
    "    h.counts(args.arg1)\n",
    "\n",
    "if args.files:\n",
    "    h.files(args.arg1)\n",
    "    \n",
    "if args.grep:\n",
    "    h.grep(args.arg1)\n",
    "\n",
    "\n"
   ]
  },
  {
   "cell_type": "code",
   "execution_count": 166,
   "metadata": {},
   "outputs": [],
   "source": [
    "'''\n",
    "zip.py -h\n",
    "usage: zip.py [-h] [-c COUNTS] [-g GREP] [-f FILES]\n",
    "\n",
    "optional arguments:\n",
    "  -h, --help            show this help message and exit\n",
    "  -c COUNTS, --counts COUNTS\n",
    "                        hits\n",
    "  -g GREP, --grep GREP  grep\n",
    "  -f FILES, --files FILES\n",
    "                        files\n",
    "\n",
    "zip.py -c rpartition\n",
    "13\n",
    "\n",
    "week6@larrys-MBP26$ zip.py -f rpartition\n",
    "python-3.7.1rc2-docs-text/whatsnew/2.7.txt\n",
    "python-3.7.1rc2-docs-text/whatsnew/2.5.txt\n",
    "python-3.7.1rc2-docs-text/whatsnew/3.2.txt\n",
    "python-3.7.1rc2-docs-text/whatsnew/changelog.txt\n",
    "python-3.7.1rc2-docs-text/library/importlib.txt\n",
    "python-3.7.1rc2-docs-text/library/stdtypes.txt\n",
    "\n",
    "week6@larrys-MBP26$ zip.py -g rpartition\n",
    "python-3.7.1rc2-docs-text/whatsnew/2.7.txt:916: * The \"split()\", \"replace()\", \"rindex()\", \"rpartition()\", and\n",
    "python-3.7.1rc2-docs-text/whatsnew/2.5.txt:975: \"rpartition(sep)\" methods that simplify a common use case.\n",
    "python-3.7.1rc2-docs-text/whatsnew/2.5.txt:984: \"rpartition(sep)\" also returns a 3-tuple but starts searching from\n",
    "python-3.7.1rc2-docs-text/whatsnew/2.5.txt:995: >>> 'www.python.org'.rpartition('.')\n",
    "python-3.7.1rc2-docs-text/whatsnew/2.5.txt:997: >>> 'www.python.org'.rpartition(':')\n",
    "python-3.7.1rc2-docs-text/whatsnew/3.2.txt:2379: extension = name.rpartition('.')[2]\n",
    "python-3.7.1rc2-docs-text/whatsnew/3.2.txt:2419: also used by \"rfind()\", \"rindex()\", \"rsplit()\" and \"rpartition()\".\n",
    "python-3.7.1rc2-docs-text/whatsnew/changelog.txt:2488: * bpo-20047: Bytearray methods partition() and rpartition() now\n",
    "python-3.7.1rc2-docs-text/whatsnew/changelog.txt:6405: * bpo-20047: Bytearray methods partition() and rpartition() now\n",
    "python-3.7.1rc2-docs-text/library/importlib.txt:1673: parent_name, _, child_name = absolute_name.rpartition('.')\n",
    "python-3.7.1rc2-docs-text/library/stdtypes.txt:1549: str.rpartition(sep)\n",
    "python-3.7.1rc2-docs-text/library/stdtypes.txt:2319: bytes.rpartition(sep)\n",
    "python-3.7.1rc2-docs-text/library/stdtypes.txt:2320: bytearray.rpartition(sep)\n",
    "week6@larrys-MBP26$ \n",
    "'''\n",
    "None"
   ]
  },
  {
   "cell_type": "markdown",
   "metadata": {},
   "source": [
    "# Problems 3 & 4 \n",
    "- want to 'find the two four digit prime triples'\n",
    "- first we will write several simple helper functions"
   ]
  },
  {
   "cell_type": "markdown",
   "metadata": {},
   "source": [
    "# define isPrime() predicate\n",
    "- no need to be clever or efficient\n",
    "- first check some special cases, then try each odd integer as a factor \n",
    "- use '%' to check divsors \n",
    "    - 0 == n % 2 will be true if n is even"
   ]
  },
  {
   "cell_type": "code",
   "execution_count": 203,
   "metadata": {},
   "outputs": [],
   "source": [
    "def isPrime(n):\n",
    "    i = 2\n",
    "    while i*i <= n:\n",
    "        if n%i == 0:\n",
    "            return False\n",
    "        i+=1\n",
    "    else:\n",
    "        return True"
   ]
  },
  {
   "cell_type": "code",
   "execution_count": 204,
   "metadata": {},
   "outputs": [
    {
     "data": {
      "text/plain": [
       "[[1, True],\n",
       " [2, True],\n",
       " [3, True],\n",
       " [8, False],\n",
       " [23, True],\n",
       " [25, False],\n",
       " [31, True],\n",
       " [33, False],\n",
       " [71, True]]"
      ]
     },
     "execution_count": 204,
     "metadata": {},
     "output_type": "execute_result"
    }
   ],
   "source": [
    "[[n,isPrime(n)] for n in [1,2,3,8,23,25,31,33,71]]"
   ]
  },
  {
   "cell_type": "markdown",
   "metadata": {},
   "source": [
    "# define primes4()\n",
    "- find all the 4 digit primes\n",
    "- use isPrime() on odd 4 digit numbers"
   ]
  },
  {
   "cell_type": "code",
   "execution_count": 169,
   "metadata": {},
   "outputs": [
    {
     "data": {
      "text/plain": [
       "[1061,\n",
       " [1009, 1013, 1019, 1021, 1031, 1033, 1039, 1049, 1051, 1061],\n",
       " [9887, 9901, 9907, 9923, 9929, 9931, 9941, 9949, 9967, 9973]]"
      ]
     },
     "execution_count": 169,
     "metadata": {},
     "output_type": "execute_result"
    }
   ],
   "source": [
    "def primes4():\n",
    "    primes = []\n",
    "    for i in range(1001,9999, 2):\n",
    "        if isPrime(i):\n",
    "            primes.append(i)\n",
    "            \n",
    "    return primes\n",
    "\n",
    "p4 = primes4()\n",
    "[len(p4), p4[:10], p4[-10:]]"
   ]
  },
  {
   "cell_type": "code",
   "execution_count": 170,
   "metadata": {},
   "outputs": [
    {
     "data": {
      "text/plain": [
       "[1061,\n",
       " [1009, 1013, 1019, 1021, 1031, 1033, 1039, 1049, 1051, 1061],\n",
       " [9887, 9901, 9907, 9923, 9929, 9931, 9941, 9949, 9967, 9973]]"
      ]
     },
     "execution_count": 170,
     "metadata": {},
     "output_type": "execute_result"
    }
   ],
   "source": [
    "p4 = primes4()\n",
    "[len(p4),p4[:10], p4[-10:]]"
   ]
  },
  {
   "cell_type": "markdown",
   "metadata": {},
   "source": [
    "# define differences()\n",
    "- computes the difference between adjacent list elements\n",
    "- result list is one shorter than input list"
   ]
  },
  {
   "cell_type": "code",
   "execution_count": 171,
   "metadata": {},
   "outputs": [
    {
     "data": {
      "text/plain": [
       "[-1, 5, 2]"
      ]
     },
     "execution_count": 171,
     "metadata": {},
     "output_type": "execute_result"
    }
   ],
   "source": [
    "import numpy as np\n",
    "\n",
    "def differences(n):\n",
    "    return list(np.diff(n))\n",
    "\n",
    "differences([-1,-2,3,5])"
   ]
  },
  {
   "cell_type": "code",
   "execution_count": 172,
   "metadata": {},
   "outputs": [
    {
     "data": {
      "text/plain": [
       "[2, 1, 18, 11]"
      ]
     },
     "execution_count": 172,
     "metadata": {},
     "output_type": "execute_result"
    }
   ],
   "source": [
    "differences([1,3,4,22,33])"
   ]
  },
  {
   "cell_type": "code",
   "execution_count": 173,
   "metadata": {},
   "outputs": [
    {
     "data": {
      "text/plain": [
       "[-1, 5, 2]"
      ]
     },
     "execution_count": 173,
     "metadata": {},
     "output_type": "execute_result"
    }
   ],
   "source": [
    "differences([-1,-2, 3, 5])"
   ]
  },
  {
   "cell_type": "markdown",
   "metadata": {},
   "source": [
    "# define same()\n",
    "- true if all list elements are the same"
   ]
  },
  {
   "cell_type": "code",
   "execution_count": 174,
   "metadata": {},
   "outputs": [
    {
     "data": {
      "text/plain": [
       "[True, True, False]"
      ]
     },
     "execution_count": 174,
     "metadata": {},
     "output_type": "execute_result"
    }
   ],
   "source": [
    "def same(n):\n",
    "    if n:\n",
    "        val = n[0]\n",
    "        for x in n:\n",
    "            if x != val:\n",
    "                return False\n",
    "    return True\n",
    "\n",
    "[same([]), same([3,3,3,3,3]), same([3,3,3,5,3,3,3])]\n",
    "        "
   ]
  },
  {
   "cell_type": "code",
   "execution_count": 175,
   "metadata": {},
   "outputs": [
    {
     "data": {
      "text/plain": [
       "[True, True, False]"
      ]
     },
     "execution_count": 175,
     "metadata": {},
     "output_type": "execute_result"
    }
   ],
   "source": [
    "[same([]), same([3,3,3,3,3]), same([3,3,3,3,3,8,3])]"
   ]
  },
  {
   "cell_type": "markdown",
   "metadata": {},
   "source": [
    "# define arithmetic()\n",
    "- true if input is an arithmetic sequence, false otherwise\n",
    "- in an arithmetic sequence, the difference between consecutive elements is a constant\n",
    "- use differences and same"
   ]
  },
  {
   "cell_type": "code",
   "execution_count": 176,
   "metadata": {},
   "outputs": [],
   "source": [
    "def arithmetic(n):\n",
    "    return same(differences(n))\n",
    "\n",
    "    "
   ]
  },
  {
   "cell_type": "code",
   "execution_count": 177,
   "metadata": {},
   "outputs": [
    {
     "data": {
      "text/plain": [
       "[True, False]"
      ]
     },
     "execution_count": 177,
     "metadata": {},
     "output_type": "execute_result"
    }
   ],
   "source": [
    "[arithmetic([0,2,4]), arithmetic([3,7,9])]"
   ]
  },
  {
   "cell_type": "markdown",
   "metadata": {},
   "source": [
    "# define keygen()\n",
    "- invent a scheme for generating a key that is the same for any permutation of digits\n",
    "    - example: 1013, 1031, 1103, 1301, 3011 should all map into the same key"
   ]
  },
  {
   "cell_type": "code",
   "execution_count": 178,
   "metadata": {},
   "outputs": [],
   "source": [
    "import itertools\n",
    "\n",
    "def keygen(n):\n",
    "    \n",
    "    keystr = str(n)\n",
    "    keyval = []    \n",
    "    for i in range(10):\n",
    "        x = keystr.count(str(i))\n",
    "        keyval.append(str(x))    \n",
    "    key = ''.join(keyval)\n",
    "    return key           \n",
    "    "
   ]
  },
  {
   "cell_type": "code",
   "execution_count": 179,
   "metadata": {},
   "outputs": [
    {
     "data": {
      "text/plain": [
       "True"
      ]
     },
     "execution_count": 179,
     "metadata": {},
     "output_type": "execute_result"
    }
   ],
   "source": [
    "same([keygen(p) for p in [1013,1031,1103,1301,3011]])"
   ]
  },
  {
   "cell_type": "markdown",
   "metadata": {},
   "source": [
    "# the triples\n",
    "- look at the set of 4 digit primes\n",
    "- it turns out there are two triples of primes such that:\n",
    "    - the digits of the primes are permutations of each other\n",
    "    - the primes in increasing order are an arithmetic sequence\n",
    "- one of the triples is [2969, 6299, 9629]"
   ]
  },
  {
   "cell_type": "code",
   "execution_count": null,
   "metadata": {},
   "outputs": [],
   "source": []
  },
  {
   "cell_type": "code",
   "execution_count": 180,
   "metadata": {},
   "outputs": [
    {
     "data": {
      "text/plain": [
       "[[3330, 3330], True, [True, True, True]]"
      ]
     },
     "execution_count": 180,
     "metadata": {},
     "output_type": "execute_result"
    }
   ],
   "source": [
    "triple=[2969, 6299, 9629]\n",
    "[differences(triple),arithmetic(triple), [isPrime(p) for p in triple]]"
   ]
  },
  {
   "cell_type": "markdown",
   "metadata": {},
   "source": [
    "# define findTriples()\n",
    "- should find the triples\n",
    "- build a dictionary \n",
    "    - a key's value should be a list of all the 4 digit primes, sorted low to high, that are permutations of a given digit set\n",
    "- then should be straightforward to find the triples - just check\n",
    "the possible 3 long combinations of the value list\n",
    "- itertools.combinations is your friend - note it preserves sequence order\n",
    "- return a list of the triples"
   ]
  },
  {
   "cell_type": "code",
   "execution_count": 259,
   "metadata": {},
   "outputs": [
    {
     "data": {
      "text/plain": [
       "[(1487, 4817, 8147), (2969, 6299, 9629)]"
      ]
     },
     "execution_count": 259,
     "metadata": {},
     "output_type": "execute_result"
    }
   ],
   "source": [
    "def findTriples():\n",
    "    keys = {}\n",
    "    primes = primes4()\n",
    "    newprimes = []\n",
    "    triples = []\n",
    "\n",
    "    for i in primes:\n",
    "        newprimes = []\n",
    "        vals = itertools.permutations(str(i), 4)\n",
    "        check = set(int(''.join(x)) for x in vals)\n",
    "        for digit in check:\n",
    "            if len(str(digit)) == 4 and isPrime(digit):\n",
    "                newprimes.append(digit)\n",
    "                           \n",
    "        keys.setdefault(i, []).append(sorted(newprimes))\n",
    "    \n",
    "    for v in keys.values():\n",
    "        for j in v:\n",
    "            for k in itertools.combinations(j, 3):\n",
    "                if arithmetic(k):\n",
    "                    if not k in triples:\n",
    "                        triples.append(k)\n",
    "            \n",
    "    #return triples\n",
    "    return triples\n",
    "    \n",
    "findTriples()"
   ]
  },
  {
   "cell_type": "code",
   "execution_count": 260,
   "metadata": {},
   "outputs": [
    {
     "data": {
      "text/plain": [
       "(2969, 6299, 9629)"
      ]
     },
     "execution_count": 260,
     "metadata": {},
     "output_type": "execute_result"
    }
   ],
   "source": [
    "findTriples()[1]"
   ]
  },
  {
   "cell_type": "code",
   "execution_count": 261,
   "metadata": {},
   "outputs": [
    {
     "data": {
      "text/plain": [
       "[[3330, 3330], [3330, 3330]]"
      ]
     },
     "execution_count": 261,
     "metadata": {},
     "output_type": "execute_result"
    }
   ],
   "source": [
    "# oddly, they both have a difference of 3330!\n",
    "\n",
    "t1, t2 = findTriples()\n",
    "[differences(t1), differences(t2)]"
   ]
  },
  {
   "cell_type": "markdown",
   "metadata": {},
   "source": [
    "# Problem 5\n",
    "- define a function decorator '@secure'\n",
    "- @secure adds two required arguments before any others, a 'user' and a 'password'\n",
    "- if the user is not registered, raise an Exception\n",
    "- if the user is registered, but the password is wrong, raise an Exception\n",
    "- if user/pw ok, then call the function defined below @secure\n",
    "with its usual arguments"
   ]
  },
  {
   "cell_type": "code",
   "execution_count": 263,
   "metadata": {},
   "outputs": [],
   "source": [
    "class secure(object):\n",
    "    \n",
    "    def __init__(self, func):\n",
    "        self.func = func\n",
    "        self.up = {}\n",
    "        self.up['jack'] = 'jackpw'\n",
    "        self.up['jill'] = 'jillpw'\n",
    "    \n",
    "    def __call__(self, *pos, **kw):\n",
    "                    \n",
    "        name = pos[0]\n",
    "        pw = pos[1]\n",
    "        \n",
    "        if not name in self.up:\n",
    "            raise Exception('User \"{}\" is invalid'.format(name))        \n",
    "        if not self.up[name] == pw:\n",
    "            raise Exception(\"Ivalid password\")\n",
    "                     \n",
    "        return self.func(*pos[2:])\n",
    "        \n",
    "        "
   ]
  },
  {
   "cell_type": "code",
   "execution_count": 264,
   "metadata": {},
   "outputs": [],
   "source": [
    "# the user/password 'database' that @secure will refer to\n",
    "\n",
    "up = {}\n",
    "up['jack'] = 'jackpw'\n",
    "up['jill'] = 'jillpw'\n"
   ]
  },
  {
   "cell_type": "code",
   "execution_count": 265,
   "metadata": {},
   "outputs": [],
   "source": [
    "@secure\n",
    "def foo(a,b):\n",
    "    return (a+b)\n",
    "\n",
    "@secure\n",
    "def bar(a, b=34):\n",
    "    return(a+b)"
   ]
  },
  {
   "cell_type": "code",
   "execution_count": 266,
   "metadata": {},
   "outputs": [
    {
     "ename": "Exception",
     "evalue": "User \"1\" is invalid",
     "output_type": "error",
     "traceback": [
      "\u001b[0;31m---------------------------------------------------------------------------\u001b[0m",
      "\u001b[0;31mException\u001b[0m                                 Traceback (most recent call last)",
      "\u001b[0;32m<ipython-input-266-df3793228a9a>\u001b[0m in \u001b[0;36m<module>\u001b[0;34m()\u001b[0m\n\u001b[1;32m      2\u001b[0m \u001b[0;31m# user =1, pw=2\u001b[0m\u001b[0;34m\u001b[0m\u001b[0;34m\u001b[0m\u001b[0m\n\u001b[1;32m      3\u001b[0m \u001b[0;34m\u001b[0m\u001b[0m\n\u001b[0;32m----> 4\u001b[0;31m \u001b[0mfoo\u001b[0m\u001b[0;34m(\u001b[0m\u001b[0;36m1\u001b[0m\u001b[0;34m,\u001b[0m\u001b[0;36m2\u001b[0m\u001b[0;34m)\u001b[0m\u001b[0;34m\u001b[0m\u001b[0m\n\u001b[0m",
      "\u001b[0;32m<ipython-input-263-a59c47fc8a8b>\u001b[0m in \u001b[0;36m__call__\u001b[0;34m(self, *pos, **kw)\u001b[0m\n\u001b[1;32m     13\u001b[0m \u001b[0;34m\u001b[0m\u001b[0m\n\u001b[1;32m     14\u001b[0m         \u001b[0;32mif\u001b[0m \u001b[0;32mnot\u001b[0m \u001b[0mname\u001b[0m \u001b[0;32min\u001b[0m \u001b[0mself\u001b[0m\u001b[0;34m.\u001b[0m\u001b[0mup\u001b[0m\u001b[0;34m:\u001b[0m\u001b[0;34m\u001b[0m\u001b[0m\n\u001b[0;32m---> 15\u001b[0;31m             \u001b[0;32mraise\u001b[0m \u001b[0mException\u001b[0m\u001b[0;34m(\u001b[0m\u001b[0;34m'User \"{}\" is invalid'\u001b[0m\u001b[0;34m.\u001b[0m\u001b[0mformat\u001b[0m\u001b[0;34m(\u001b[0m\u001b[0mname\u001b[0m\u001b[0;34m)\u001b[0m\u001b[0;34m)\u001b[0m\u001b[0;34m\u001b[0m\u001b[0m\n\u001b[0m\u001b[1;32m     16\u001b[0m         \u001b[0;32mif\u001b[0m \u001b[0;32mnot\u001b[0m \u001b[0mself\u001b[0m\u001b[0;34m.\u001b[0m\u001b[0mup\u001b[0m\u001b[0;34m[\u001b[0m\u001b[0mname\u001b[0m\u001b[0;34m]\u001b[0m \u001b[0;34m==\u001b[0m \u001b[0mpw\u001b[0m\u001b[0;34m:\u001b[0m\u001b[0;34m\u001b[0m\u001b[0m\n\u001b[1;32m     17\u001b[0m             \u001b[0;32mraise\u001b[0m \u001b[0mException\u001b[0m\u001b[0;34m(\u001b[0m\u001b[0;34m\"Ivalid password\"\u001b[0m\u001b[0;34m)\u001b[0m\u001b[0;34m\u001b[0m\u001b[0m\n",
      "\u001b[0;31mException\u001b[0m: User \"1\" is invalid"
     ]
    }
   ],
   "source": [
    "# wrong number of args\n",
    "# user =1, pw=2\n",
    "\n",
    "foo(1,2)"
   ]
  },
  {
   "cell_type": "code",
   "execution_count": 267,
   "metadata": {},
   "outputs": [
    {
     "data": {
      "text/plain": [
       "3"
      ]
     },
     "execution_count": 267,
     "metadata": {},
     "output_type": "execute_result"
    }
   ],
   "source": [
    "# good call - user/pw, then regular args\n",
    "\n",
    "foo('jack', 'jackpw', 1 ,2)"
   ]
  },
  {
   "cell_type": "code",
   "execution_count": 268,
   "metadata": {},
   "outputs": [
    {
     "ename": "Exception",
     "evalue": "User \"frank\" is invalid",
     "output_type": "error",
     "traceback": [
      "\u001b[0;31m---------------------------------------------------------------------------\u001b[0m",
      "\u001b[0;31mException\u001b[0m                                 Traceback (most recent call last)",
      "\u001b[0;32m<ipython-input-268-4c85d5e3852a>\u001b[0m in \u001b[0;36m<module>\u001b[0;34m()\u001b[0m\n\u001b[1;32m      1\u001b[0m \u001b[0;31m# bad user\u001b[0m\u001b[0;34m\u001b[0m\u001b[0;34m\u001b[0m\u001b[0m\n\u001b[1;32m      2\u001b[0m \u001b[0;34m\u001b[0m\u001b[0m\n\u001b[0;32m----> 3\u001b[0;31m \u001b[0mfoo\u001b[0m\u001b[0;34m(\u001b[0m\u001b[0;34m'frank'\u001b[0m\u001b[0;34m,\u001b[0m \u001b[0;34m'bad'\u001b[0m\u001b[0;34m,\u001b[0m \u001b[0;36m1\u001b[0m \u001b[0;34m,\u001b[0m\u001b[0;36m2\u001b[0m\u001b[0;34m)\u001b[0m\u001b[0;34m\u001b[0m\u001b[0m\n\u001b[0m",
      "\u001b[0;32m<ipython-input-263-a59c47fc8a8b>\u001b[0m in \u001b[0;36m__call__\u001b[0;34m(self, *pos, **kw)\u001b[0m\n\u001b[1;32m     13\u001b[0m \u001b[0;34m\u001b[0m\u001b[0m\n\u001b[1;32m     14\u001b[0m         \u001b[0;32mif\u001b[0m \u001b[0;32mnot\u001b[0m \u001b[0mname\u001b[0m \u001b[0;32min\u001b[0m \u001b[0mself\u001b[0m\u001b[0;34m.\u001b[0m\u001b[0mup\u001b[0m\u001b[0;34m:\u001b[0m\u001b[0;34m\u001b[0m\u001b[0m\n\u001b[0;32m---> 15\u001b[0;31m             \u001b[0;32mraise\u001b[0m \u001b[0mException\u001b[0m\u001b[0;34m(\u001b[0m\u001b[0;34m'User \"{}\" is invalid'\u001b[0m\u001b[0;34m.\u001b[0m\u001b[0mformat\u001b[0m\u001b[0;34m(\u001b[0m\u001b[0mname\u001b[0m\u001b[0;34m)\u001b[0m\u001b[0;34m)\u001b[0m\u001b[0;34m\u001b[0m\u001b[0m\n\u001b[0m\u001b[1;32m     16\u001b[0m         \u001b[0;32mif\u001b[0m \u001b[0;32mnot\u001b[0m \u001b[0mself\u001b[0m\u001b[0;34m.\u001b[0m\u001b[0mup\u001b[0m\u001b[0;34m[\u001b[0m\u001b[0mname\u001b[0m\u001b[0;34m]\u001b[0m \u001b[0;34m==\u001b[0m \u001b[0mpw\u001b[0m\u001b[0;34m:\u001b[0m\u001b[0;34m\u001b[0m\u001b[0m\n\u001b[1;32m     17\u001b[0m             \u001b[0;32mraise\u001b[0m \u001b[0mException\u001b[0m\u001b[0;34m(\u001b[0m\u001b[0;34m\"Ivalid password\"\u001b[0m\u001b[0;34m)\u001b[0m\u001b[0;34m\u001b[0m\u001b[0m\n",
      "\u001b[0;31mException\u001b[0m: User \"frank\" is invalid"
     ]
    }
   ],
   "source": [
    "# bad user\n",
    "\n",
    "foo('frank', 'bad', 1 ,2)"
   ]
  },
  {
   "cell_type": "code",
   "execution_count": 269,
   "metadata": {},
   "outputs": [
    {
     "ename": "Exception",
     "evalue": "Ivalid password",
     "output_type": "error",
     "traceback": [
      "\u001b[0;31m---------------------------------------------------------------------------\u001b[0m",
      "\u001b[0;31mException\u001b[0m                                 Traceback (most recent call last)",
      "\u001b[0;32m<ipython-input-269-73a1d7dee44d>\u001b[0m in \u001b[0;36m<module>\u001b[0;34m()\u001b[0m\n\u001b[1;32m      1\u001b[0m \u001b[0;31m# good user, bad passwd\u001b[0m\u001b[0;34m\u001b[0m\u001b[0;34m\u001b[0m\u001b[0m\n\u001b[1;32m      2\u001b[0m \u001b[0;34m\u001b[0m\u001b[0m\n\u001b[0;32m----> 3\u001b[0;31m \u001b[0mfoo\u001b[0m\u001b[0;34m(\u001b[0m\u001b[0;34m'jill'\u001b[0m\u001b[0;34m,\u001b[0m \u001b[0;34m'nope'\u001b[0m\u001b[0;34m,\u001b[0m \u001b[0;36m3\u001b[0m\u001b[0;34m,\u001b[0m \u001b[0;36m4\u001b[0m\u001b[0;34m)\u001b[0m\u001b[0;34m\u001b[0m\u001b[0m\n\u001b[0m",
      "\u001b[0;32m<ipython-input-263-a59c47fc8a8b>\u001b[0m in \u001b[0;36m__call__\u001b[0;34m(self, *pos, **kw)\u001b[0m\n\u001b[1;32m     15\u001b[0m             \u001b[0;32mraise\u001b[0m \u001b[0mException\u001b[0m\u001b[0;34m(\u001b[0m\u001b[0;34m'User \"{}\" is invalid'\u001b[0m\u001b[0;34m.\u001b[0m\u001b[0mformat\u001b[0m\u001b[0;34m(\u001b[0m\u001b[0mname\u001b[0m\u001b[0;34m)\u001b[0m\u001b[0;34m)\u001b[0m\u001b[0;34m\u001b[0m\u001b[0m\n\u001b[1;32m     16\u001b[0m         \u001b[0;32mif\u001b[0m \u001b[0;32mnot\u001b[0m \u001b[0mself\u001b[0m\u001b[0;34m.\u001b[0m\u001b[0mup\u001b[0m\u001b[0;34m[\u001b[0m\u001b[0mname\u001b[0m\u001b[0;34m]\u001b[0m \u001b[0;34m==\u001b[0m \u001b[0mpw\u001b[0m\u001b[0;34m:\u001b[0m\u001b[0;34m\u001b[0m\u001b[0m\n\u001b[0;32m---> 17\u001b[0;31m             \u001b[0;32mraise\u001b[0m \u001b[0mException\u001b[0m\u001b[0;34m(\u001b[0m\u001b[0;34m\"Ivalid password\"\u001b[0m\u001b[0;34m)\u001b[0m\u001b[0;34m\u001b[0m\u001b[0m\n\u001b[0m\u001b[1;32m     18\u001b[0m \u001b[0;34m\u001b[0m\u001b[0m\n\u001b[1;32m     19\u001b[0m         \u001b[0;32mreturn\u001b[0m \u001b[0mself\u001b[0m\u001b[0;34m.\u001b[0m\u001b[0mfunc\u001b[0m\u001b[0;34m(\u001b[0m\u001b[0;34m*\u001b[0m\u001b[0mpos\u001b[0m\u001b[0;34m[\u001b[0m\u001b[0;36m2\u001b[0m\u001b[0;34m:\u001b[0m\u001b[0;34m]\u001b[0m\u001b[0;34m)\u001b[0m\u001b[0;34m\u001b[0m\u001b[0m\n",
      "\u001b[0;31mException\u001b[0m: Ivalid password"
     ]
    }
   ],
   "source": [
    "# good user, bad passwd\n",
    "\n",
    "foo('jill', 'nope', 3, 4)"
   ]
  },
  {
   "cell_type": "code",
   "execution_count": 270,
   "metadata": {},
   "outputs": [
    {
     "data": {
      "text/plain": [
       "39"
      ]
     },
     "execution_count": 270,
     "metadata": {},
     "output_type": "execute_result"
    }
   ],
   "source": [
    "# works with keywords - b defaults to 34\n",
    "\n",
    "bar('jill', 'jillpw', 5)\n"
   ]
  },
  {
   "cell_type": "code",
   "execution_count": null,
   "metadata": {},
   "outputs": [],
   "source": []
  },
  {
   "cell_type": "code",
   "execution_count": null,
   "metadata": {},
   "outputs": [],
   "source": []
  }
 ],
 "metadata": {
  "anaconda-cloud": {},
  "kernelspec": {
   "display_name": "Python 3",
   "language": "python",
   "name": "python3"
  },
  "language_info": {
   "codemirror_mode": {
    "name": "ipython",
    "version": 3
   },
   "file_extension": ".py",
   "mimetype": "text/x-python",
   "name": "python",
   "nbconvert_exporter": "python",
   "pygments_lexer": "ipython3",
   "version": "3.6.5"
  },
  "name": "_merged_merged"
 },
 "nbformat": 4,
 "nbformat_minor": 1
}

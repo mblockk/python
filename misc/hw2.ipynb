{
 "cells": [
  {
   "cell_type": "markdown",
   "metadata": {},
   "source": [
    "# Introduction to Python \n",
    "# Homework #2\n",
    "- Due Fri Sept 21 at 1pm\n",
    "- This homework will be graded\n",
    "- You MUST submit on CourseWorks2 before it closes\n",
    "    - Verify your submission succeeded\n",
    "    - Email submissions are not accepted \n",
    "    "
   ]
  },
  {
   "cell_type": "markdown",
   "metadata": {},
   "source": [
    "# Academic Honesty\n",
    "* The computer science department has strict polices. Check\n",
    "the department [web page](http://www.cs.columbia.edu/education/honesty) for details. \n",
    "- Do not look at anybody else's source code. Do not show anybody\n",
    "your source, or leave your source where somebody could see it.\n",
    "You MUST write your own code.\n",
    "- For this class, feel free to discuss issues with other people, but suggest waiting an hour or two after a discussion, before writing your code.\n",
    "-  Cases of non original source will be refered to the Judical Committee.\n"
   ]
  },
  {
   "cell_type": "markdown",
   "metadata": {},
   "source": [
    "# Tips\n"
   ]
  },
  {
   "cell_type": "markdown",
   "metadata": {},
   "source": [
    "# Make SURE you are running Python 3.6, and not 2.7"
   ]
  },
  {
   "cell_type": "code",
   "execution_count": null,
   "metadata": {},
   "outputs": [],
   "source": [
    "# the 3.6.3 is the version\n",
    "\n",
    "import sys\n",
    "sys.version"
   ]
  },
  {
   "cell_type": "markdown",
   "metadata": {},
   "source": [
    "# use string.format"
   ]
  },
  {
   "cell_type": "code",
   "execution_count": null,
   "metadata": {},
   "outputs": [],
   "source": [
    "# instead of \n",
    "\n",
    "name = 'larry'\n",
    "cnt = 5\n",
    "lst = [1,5,6]\n",
    "\n",
    "'name is ' + name + ', count is ' + str(cnt) + ', list = ' + str(lst)"
   ]
  },
  {
   "cell_type": "code",
   "execution_count": null,
   "metadata": {},
   "outputs": [],
   "source": [
    "'name is {}, count is {}, list = {}'.format(name, cnt, lst)"
   ]
  },
  {
   "cell_type": "markdown",
   "metadata": {},
   "source": [
    "# sum"
   ]
  },
  {
   "cell_type": "code",
   "execution_count": null,
   "metadata": {},
   "outputs": [],
   "source": [
    "# sum is a builtin function that will sum a list,\n",
    "# tuple, or range\n",
    "\n",
    "[sum([35.3, 3,2]), sum((1,2,3)), sum(range(3))]"
   ]
  },
  {
   "cell_type": "markdown",
   "metadata": {},
   "source": [
    "# type\n",
    "- can always find the type of an object with the 'type' function"
   ]
  },
  {
   "cell_type": "code",
   "execution_count": null,
   "metadata": {},
   "outputs": [],
   "source": [
    "[type(234), type(range(2,44)), type(zip())]"
   ]
  },
  {
   "cell_type": "markdown",
   "metadata": {},
   "source": [
    "# isinstance"
   ]
  },
  {
   "cell_type": "code",
   "execution_count": null,
   "metadata": {},
   "outputs": [],
   "source": [
    "# 'isinstance' is a little more concise \n",
    "# then 'type' in some situations\n",
    "\n",
    "type(234) == int\n",
    "isinstance(234, int)"
   ]
  },
  {
   "cell_type": "code",
   "execution_count": null,
   "metadata": {},
   "outputs": [],
   "source": [
    "# is arg a number\n",
    "\n",
    "def nump(x):\n",
    "    t = type(x)\n",
    "    return t == int or t == float\n",
    "\n",
    "# much nicer \n",
    "\n",
    "def nump2(x):\n",
    "    return isinstance(x, (int,float))\n",
    "\n",
    "[nump(3), nump2(4.4)]"
   ]
  },
  {
   "cell_type": "markdown",
   "metadata": {},
   "source": [
    "# zip\n",
    "- zip stops after shortest list is exhausted"
   ]
  },
  {
   "cell_type": "code",
   "execution_count": null,
   "metadata": {},
   "outputs": [],
   "source": [
    "list(zip(range(10), range(100,500), range(4,7)))"
   ]
  },
  {
   "cell_type": "markdown",
   "metadata": {},
   "source": [
    "# Problems \n",
    "- these are all fairly short functions\n",
    "    - longest is maybe 20 lines\n",
    "- if you are doing something very complicated, think again, or get some help"
   ]
  },
  {
   "cell_type": "markdown",
   "metadata": {},
   "source": [
    "# Problem 1a - define function 'dot'\n",
    "- computes the standard 'dot product' \n",
    "between two lists \n",
    "- example: dot([1,2,3], [4,5,6]) = $$1 * 4 + 2 * 5 + 3 * 6 = 32$$\n",
    "- if one vector is longer than the other, the extra elements are ignored"
   ]
  },
  {
   "cell_type": "code",
   "execution_count": 13,
   "metadata": {},
   "outputs": [],
   "source": [
    "# test vectors for Problem 1 a,b,c,d\n",
    "\n",
    "tv0 = [1,2,3]\n",
    "tv1 = [4,5,6,7,8,9]"
   ]
  },
  {
   "cell_type": "code",
   "execution_count": 14,
   "metadata": {},
   "outputs": [
    {
     "data": {
      "text/plain": [
       "32"
      ]
     },
     "execution_count": 14,
     "metadata": {},
     "output_type": "execute_result"
    }
   ],
   "source": [
    "# the 7,8,9 elements are ignored because zip stops when the shorter list is exhausted\n",
    "\n",
    "\n",
    "def dot(list1, list2):\n",
    "    num = sum([x*y for x, y in zip(list1, list2)])\n",
    "    return num\n",
    "\n",
    "dot(tv0, tv1)"
   ]
  },
  {
   "cell_type": "markdown",
   "metadata": {},
   "source": [
    "# Problem 1b - define function 'shortlong' \n",
    "- puts inputs in a 'cannonical form' \n",
    "- takes two vectors, and returns in a list the shorter vector, the short vector length, the long vector, and the long vector length"
   ]
  },
  {
   "cell_type": "code",
   "execution_count": 15,
   "metadata": {},
   "outputs": [
    {
     "data": {
      "text/plain": [
       "([1, 2, 3], 3, [4, 5, 6, 7, 8, 9], 6)"
      ]
     },
     "execution_count": 15,
     "metadata": {},
     "output_type": "execute_result"
    }
   ],
   "source": [
    "def shortlong(list1, list2):\n",
    "    if len(list1) < len(list2):\n",
    "        d = ((list1, len(list1), list2, len(list2)))\n",
    "    else:\n",
    "        d = ((list2, len(list2), list1, len(list1)))\n",
    "    return d\n",
    "shortlong(tv0, tv1)"
   ]
  },
  {
   "cell_type": "code",
   "execution_count": 16,
   "metadata": {},
   "outputs": [
    {
     "data": {
      "text/plain": [
       "([1, 2, 3], 3, [4, 5, 6, 7, 8, 9], 6)"
      ]
     },
     "execution_count": 16,
     "metadata": {},
     "output_type": "execute_result"
    }
   ],
   "source": [
    "shortlong(tv1, tv0)"
   ]
  },
  {
   "cell_type": "markdown",
   "metadata": {},
   "source": [
    "# Problem 1c - define function 'dotmv'\n",
    "- more flexible version of 'dot'\n",
    "- 'dotmv' takes an extra 'offset' arg, which moves the shorter vector to the right\n",
    "- use 'shortlong'\n",
    "- dotmv(tv0, tv1, 2) = $$1 * 6 + 2 * 7 + 3 * 8$$"
   ]
  },
  {
   "cell_type": "code",
   "execution_count": 26,
   "metadata": {},
   "outputs": [
    {
     "data": {
      "text/plain": [
       "[32, 38, 44]"
      ]
     },
     "execution_count": 26,
     "metadata": {},
     "output_type": "execute_result"
    }
   ],
   "source": [
    "##def dotmv(list1, list2, x):\n",
    "##    sv, sl, lv, ll = shortlong(list1, list2)\n",
    "##    shorty = sv.copy()\n",
    "##    movesv = [i+x for i in sv]\n",
    "##    print(movesv)\n",
    "##    print(lv)\n",
    "    \n",
    "##    return((dot(movesv, lv))) \n",
    "\n",
    "def dotmv(list1, list2, x):\n",
    "    sv, sl, lv, ll = shortlong(list1, list2)\n",
    "    long = lv.copy()\n",
    "    movesv = [long[i] for i in range(x, len(long))]\n",
    "    \n",
    "    return((dot(sv, movesv)))     \n",
    "    \n",
    "[dotmv(tv0, tv1, 0), dotmv(tv0, tv1, 1), dotmv(tv0, tv1, 2)]"
   ]
  },
  {
   "cell_type": "markdown",
   "metadata": {},
   "source": [
    "# Problem 1d - define function 'dotpad' \n",
    "- another version of 'dot'\n",
    "- 'dotpad' takes a pad arg\n",
    "- if one vector is shorter, it is padded on the right with the pad value\n",
    "- use 'shortlong'\n",
    "- don't modify the input vectors\n",
    "- dotpad(tv0, tv1,1) = dot([1,2,3,1,1,1], [4,5,6,7,8,9])"
   ]
  },
  {
   "cell_type": "code",
   "execution_count": 27,
   "metadata": {},
   "outputs": [],
   "source": [
    "def dotpad(list1, list2, pad):\n",
    "    sv, sl, lv, ll = shortlong(list1, list2)\n",
    "    shorty = sv.copy()\n",
    "    for i in range(ll-sl):\n",
    "        shorty.append(pad)\n",
    "    \n",
    "    return dot(shorty, lv)"
   ]
  },
  {
   "cell_type": "code",
   "execution_count": 28,
   "metadata": {
    "scrolled": true
   },
   "outputs": [
    {
     "data": {
      "text/plain": [
       "[32, 56, 80]"
      ]
     },
     "execution_count": 28,
     "metadata": {},
     "output_type": "execute_result"
    }
   ],
   "source": [
    "[dotpad(tv0, tv1, 0), dotpad(tv0, tv1, 1), dotpad(tv0, tv1,2)]"
   ]
  },
  {
   "cell_type": "markdown",
   "metadata": {},
   "source": [
    "# Problem 2 - define function 'cbt'\n",
    "- 'cbt' => 'Collate By Type'\n",
    "- argument: a non-nested list of objects\n",
    "- prints: \n",
    "  - the number of each type found\n",
    "  - the sum, if any, of the ints, and floats found\n",
    "  - the strings, if any, sorted alphabetically, and concatenated\n",
    "  togther, separated by '|\n",
    "- returns: a dictionary, where there is \n",
    "a key for each type found. the value of each\n",
    "key is a list of the objects of that type found."
   ]
  },
  {
   "cell_type": "code",
   "execution_count": 7,
   "metadata": {},
   "outputs": [],
   "source": [
    "stuff = [23, 2**20, 3.14,'shapiro', 2**10+7, sorted,2.34, 'science', len, 43, 'butler', 'unicode']"
   ]
  },
  {
   "cell_type": "code",
   "execution_count": 8,
   "metadata": {},
   "outputs": [],
   "source": [
    "# you might want to use this helper function to\n",
    "# make the dictionary\n",
    "# try to understand how it works\n",
    "\n",
    "def buildDict(x):\n",
    "    d = dict()\n",
    "    for e in x:\n",
    "        t = type(e)\n",
    "        # this is an annoying pattern \n",
    "        # will fix it later\n",
    "        if t in d:\n",
    "            d[t].append(e)\n",
    "        else:\n",
    "            d[t] = [e]\n",
    "    return d"
   ]
  },
  {
   "cell_type": "code",
   "execution_count": 9,
   "metadata": {
    "scrolled": true
   },
   "outputs": [
    {
     "data": {
      "text/plain": [
       "{int: [23, 1048576, 1031, 43],\n",
       " float: [3.14, 2.34],\n",
       " str: ['shapiro', 'science', 'butler', 'unicode'],\n",
       " builtin_function_or_method: [<function sorted(iterable, /, *, key=None, reverse=False)>,\n",
       "  <function len(obj, /)>]}"
      ]
     },
     "execution_count": 9,
     "metadata": {},
     "output_type": "execute_result"
    }
   ],
   "source": [
    "buildDict(stuff)"
   ]
  },
  {
   "cell_type": "code",
   "execution_count": 29,
   "metadata": {
    "scrolled": true
   },
   "outputs": [],
   "source": [
    "def cbt (d):\n",
    "    intcount = 0\n",
    "    intsum = 0\n",
    "    floatcount = 0\n",
    "    floatsum = 0.0\n",
    "    strcount = 0\n",
    "    funcount = 0\n",
    "    strings = []\n",
    " \n",
    "    \n",
    "    dic = buildDict(d)\n",
    "\n",
    "\n",
    "    for k,v in dic.items():\n",
    "        if k is int:\n",
    "            intcount = len(v)\n",
    "            intsum = sum(v)\n",
    "            v.sort()\n",
    "        if k is float:\n",
    "            floatcount = len(v)\n",
    "            floatsum = sum(v)\n",
    "            v.sort()\n",
    "        if k is str:\n",
    "            strcount = len(v)\n",
    "            strings = v\n",
    "            v.sort()\n",
    "                                                \n",
    "    \n",
    "    strings.sort()\n",
    "    print(\"found {} of {}\".format(intcount, type(1)))\n",
    "    print(\"found {} of {}\".format(floatcount, type(1.1)))\n",
    "    print(\"found {} of {}\".format(strcount, type('g')))\n",
    "    print(\"found {} of {}\".format(funcount, type(pow)))\n",
    "    print(\"sum of {} is {}\".format(type(1), intsum))\n",
    "    print(\"sum of {} is {}\".format(type(1.1), floatsum))\n",
    "    print(\"alpha sorted concat of strings: {}\".format(\"|\".join(strings)))\n",
    "    return dic\n",
    "        \n",
    "    "
   ]
  },
  {
   "cell_type": "code",
   "execution_count": 30,
   "metadata": {},
   "outputs": [
    {
     "name": "stdout",
     "output_type": "stream",
     "text": [
      "found 4 of <class 'int'>\n",
      "found 2 of <class 'float'>\n",
      "found 4 of <class 'str'>\n",
      "found 0 of <class 'builtin_function_or_method'>\n",
      "sum of <class 'int'> is 1049673\n",
      "sum of <class 'float'> is 5.48\n",
      "alpha sorted concat of strings: butler|science|shapiro|unicode\n"
     ]
    },
    {
     "data": {
      "text/plain": [
       "{int: [23, 43, 1031, 1048576],\n",
       " float: [2.34, 3.14],\n",
       " str: ['butler', 'science', 'shapiro', 'unicode'],\n",
       " builtin_function_or_method: [<function sorted(iterable, /, *, key=None, reverse=False)>,\n",
       "  <function len(obj, /)>]}"
      ]
     },
     "execution_count": 30,
     "metadata": {},
     "output_type": "execute_result"
    }
   ],
   "source": [
    "cbt(stuff)"
   ]
  },
  {
   "cell_type": "markdown",
   "metadata": {},
   "source": [
    "# Problem 3 - define function 'partition'\n",
    "- divides a list into segments\n",
    "- first arg is the input list\n",
    "- second arg is the length of each segment. if there are not enough list elements to make a final segment of length n, they are discarded\n",
    "- third arg is how many list elements should overlap btw adjacent segments\n",
    "- remember range is range(inclusive, exclusive), range[0,2] => [0,1]\n",
    "- might want to use 'while' instead of 'for'"
   ]
  },
  {
   "cell_type": "code",
   "execution_count": 37,
   "metadata": {},
   "outputs": [],
   "source": [
    "def partition(l, s, o):\n",
    "    inputlist = l.copy()\n",
    "    outputlist = []\n",
    "    seglength = s\n",
    "    overlap = o\n",
    "    current = 0\n",
    "        \n",
    "    while current < len(inputlist):\n",
    "        curlist = inputlist[current:current+seglength]\n",
    "        if len(curlist) == seglength:\n",
    "            outputlist.append(curlist)\n",
    "        else:\n",
    "            pass\n",
    "        current += seglength-overlap\n",
    "        \n",
    "    return outputlist   \n",
    "\n",
    "          \n",
    "                "
   ]
  },
  {
   "cell_type": "code",
   "execution_count": 38,
   "metadata": {},
   "outputs": [
    {
     "data": {
      "text/plain": [
       "[[0, 1], [2, 3], [4, 5], [6, 7], [8, 9]]"
      ]
     },
     "execution_count": 38,
     "metadata": {},
     "output_type": "execute_result"
    }
   ],
   "source": [
    "partition(list(range(10)), 2, 0)"
   ]
  },
  {
   "cell_type": "code",
   "execution_count": 39,
   "metadata": {},
   "outputs": [
    {
     "data": {
      "text/plain": [
       "[[0, 1, 2], [3, 4, 5], [6, 7, 8]]"
      ]
     },
     "execution_count": 39,
     "metadata": {},
     "output_type": "execute_result"
    }
   ],
   "source": [
    "# only want length 3 partitions, so 9 was discarded\n",
    "\n",
    "partition(list(range(10)), 3, 0)"
   ]
  },
  {
   "cell_type": "code",
   "execution_count": 40,
   "metadata": {},
   "outputs": [
    {
     "data": {
      "text/plain": [
       "[[0, 1], [1, 2], [2, 3], [3, 4], [4, 5], [5, 6], [6, 7], [7, 8], [8, 9]]"
      ]
     },
     "execution_count": 40,
     "metadata": {},
     "output_type": "execute_result"
    }
   ],
   "source": [
    "partition(list(range(10)), 2, 1)"
   ]
  },
  {
   "cell_type": "code",
   "execution_count": 41,
   "metadata": {},
   "outputs": [
    {
     "data": {
      "text/plain": [
       "[[0, 1, 2, 3], [4, 5, 6, 7]]"
      ]
     },
     "execution_count": 41,
     "metadata": {},
     "output_type": "execute_result"
    }
   ],
   "source": [
    "partition(list(range(10)), 4, 0)"
   ]
  },
  {
   "cell_type": "code",
   "execution_count": 42,
   "metadata": {},
   "outputs": [
    {
     "data": {
      "text/plain": [
       "[[0, 1, 2, 3],\n",
       " [1, 2, 3, 4],\n",
       " [2, 3, 4, 5],\n",
       " [3, 4, 5, 6],\n",
       " [4, 5, 6, 7],\n",
       " [5, 6, 7, 8],\n",
       " [6, 7, 8, 9]]"
      ]
     },
     "execution_count": 42,
     "metadata": {},
     "output_type": "execute_result"
    }
   ],
   "source": [
    "partition(list(range(10)), 4, 3)"
   ]
  },
  {
   "cell_type": "markdown",
   "metadata": {},
   "source": [
    "# Problem 4a - define function 'expandlazy' \n",
    "- if given a 'lazy' range, zip, or enumerate, expand it into a list\n"
   ]
  },
  {
   "cell_type": "code",
   "execution_count": 43,
   "metadata": {},
   "outputs": [
    {
     "data": {
      "text/plain": [
       "[0, 1, 2, 3, 4, 5, 6, 7, 8, 9]"
      ]
     },
     "execution_count": 43,
     "metadata": {},
     "output_type": "execute_result"
    }
   ],
   "source": [
    "def expandlazy(x):\n",
    "    if isinstance(x, zip):\n",
    "        p = list(x)\n",
    "        return p\n",
    "    elif isinstance(x, range):\n",
    "        p = list(x)\n",
    "        return p\n",
    "    elif isinstance(x, enumerate):\n",
    "        p = list(x)\n",
    "        return p\n",
    "    else:\n",
    "        return x\n",
    "\n",
    "expandlazy(range(10))"
   ]
  },
  {
   "cell_type": "code",
   "execution_count": 44,
   "metadata": {},
   "outputs": [
    {
     "data": {
      "text/plain": [
       "[234, [0, 1, 2], 'asdf', [(0, 'a'), (1, 'b'), (2, 'c')]]"
      ]
     },
     "execution_count": 44,
     "metadata": {},
     "output_type": "execute_result"
    }
   ],
   "source": [
    "[expandlazy(234), expandlazy(range(3)), expandlazy('asdf'), expandlazy(enumerate(['a','b','c']))]"
   ]
  },
  {
   "cell_type": "markdown",
   "metadata": {},
   "source": [
    "# Problem 4b - define function 'expandlazylist' \n",
    "- expand any lazy elements of a non nested list"
   ]
  },
  {
   "cell_type": "code",
   "execution_count": 45,
   "metadata": {},
   "outputs": [],
   "source": [
    "def expandlazylist(e):\n",
    "    l = []\n",
    "    p = []\n",
    "    y = 0\n",
    "    for i in e:\n",
    "        l.append(i)\n",
    "    for x in l:\n",
    "        if isinstance(x, zip):\n",
    "            p = list(x)\n",
    "            y = l.index(x)\n",
    "            l[y] = p\n",
    "        if isinstance(x, range):\n",
    "            p = list(x)\n",
    "            y = l.index(x)\n",
    "            l[y] = p\n",
    "        if isinstance(x, enumerate):\n",
    "            p = list(x)\n",
    "            y = l.index(x)\n",
    "            l[y] = p\n",
    "            \n",
    "    return l\n",
    "    "
   ]
  },
  {
   "cell_type": "code",
   "execution_count": 46,
   "metadata": {},
   "outputs": [
    {
     "data": {
      "text/plain": [
       "[1,\n",
       " 2,\n",
       " 3,\n",
       " [0, 1, 2, 3],\n",
       " 5,\n",
       " [(1, 4), (2, 5)],\n",
       " 'asdf',\n",
       " [(0, 'a'), (1, 'b'), (2, 'c')]]"
      ]
     },
     "execution_count": 46,
     "metadata": {},
     "output_type": "execute_result"
    }
   ],
   "source": [
    "x = [1,2,3, range(4), 5, zip([1,2,3], [4,5]), 'asdf', enumerate(['a', 'b', 'c'])]\n",
    "expandlazylist(x)"
   ]
  },
  {
   "cell_type": "markdown",
   "metadata": {},
   "source": [
    "# Problem 5 - define function riffle\n",
    "- riffle takes an arbitrarily long list of strings\n",
    "- all the strings must be the same length\n",
    "- riffle returns a string of the strings riffled together\n",
    "- hints\n",
    "    - my version is 6 lines\n",
    "    - has nested for loops\n",
    "        - outer loop iterates over the position of chars in the strings\n",
    "        - inner loop iterates over the strings\n",
    "    - i accumulate a list of the characters in the riffled string\n",
    "    - i use range,len, append, join, string indexing\n",
    "    - there many ways to write this, try to keep it simple\n",
    "    - we will see a better way to write it later\n"
   ]
  },
  {
   "cell_type": "code",
   "execution_count": 47,
   "metadata": {},
   "outputs": [
    {
     "data": {
      "text/plain": [
       "'invalid input. all strings must be equal length.'"
      ]
     },
     "execution_count": 47,
     "metadata": {},
     "output_type": "execute_result"
    }
   ],
   "source": [
    "def riffle(s):\n",
    "    r = s[1]\n",
    "    length = len(r)\n",
    "    riffle = ''\n",
    "    i = 0\n",
    "    j = 0\n",
    "    \n",
    "    for string in s:\n",
    "        if len(string) != length:\n",
    "            return \"invalid input. all strings must be equal length.\"\n",
    "        \n",
    "    \n",
    "    while j < length:           # controls iteration over the string characters\n",
    "        while i <= len(s):       # controls iteration over the strings in the list\n",
    "            riffle += s[i][j]\n",
    "            i += 1\n",
    "            if i == len(s):\n",
    "                i = 0\n",
    "                break\n",
    "        j += 1\n",
    "\n",
    "           \n",
    "    return(riffle)\n",
    "\n",
    "            \n",
    "        \n",
    "## very un-pythonic, i know, but I needed a solution and this is\n",
    "## the best i could come up with. \n",
    "            \n",
    "\n",
    "riffle(['block', 'michael'])\n",
    "    \n",
    "    \n",
    "    \n",
    "    "
   ]
  },
  {
   "cell_type": "code",
   "execution_count": 48,
   "metadata": {},
   "outputs": [
    {
     "data": {
      "text/plain": [
       "'lsatrerayd'"
      ]
     },
     "execution_count": 48,
     "metadata": {},
     "output_type": "execute_result"
    }
   ],
   "source": [
    "riffle(['larry', 'stead'])"
   ]
  },
  {
   "cell_type": "code",
   "execution_count": 49,
   "metadata": {},
   "outputs": [
    {
     "data": {
      "text/plain": [
       "'a1x4b2y5c3z6'"
      ]
     },
     "execution_count": 49,
     "metadata": {},
     "output_type": "execute_result"
    }
   ],
   "source": [
    "riffle(['abc','123','xyz', '456'])"
   ]
  },
  {
   "cell_type": "code",
   "execution_count": 50,
   "metadata": {},
   "outputs": [
    {
     "data": {
      "text/plain": [
       "'123456123456123456123456'"
      ]
     },
     "execution_count": 50,
     "metadata": {},
     "output_type": "execute_result"
    }
   ],
   "source": [
    "riffle(['1111', '2222', '3333', '4444', '5555', '6666'])"
   ]
  },
  {
   "cell_type": "code",
   "execution_count": null,
   "metadata": {},
   "outputs": [],
   "source": []
  }
 ],
 "metadata": {
  "anaconda-cloud": {},
  "kernelspec": {
   "display_name": "Python 3",
   "language": "python",
   "name": "python3"
  },
  "language_info": {
   "codemirror_mode": {
    "name": "ipython",
    "version": 3
   },
   "file_extension": ".py",
   "mimetype": "text/x-python",
   "name": "python",
   "nbconvert_exporter": "python",
   "pygments_lexer": "ipython3",
   "version": "3.6.5"
  }
 },
 "nbformat": 4,
 "nbformat_minor": 1
}
